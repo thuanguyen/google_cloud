{
 "cells": [
  {
   "cell_type": "markdown",
   "id": "efec30d3-335e-44a3-842f-c82442583199",
   "metadata": {},
   "source": [
    "# **check environemnt**"
   ]
  },
  {
   "cell_type": "code",
   "execution_count": 2,
   "id": "7b6c8530-9088-4e5a-80b3-1b0378d97990",
   "metadata": {
    "tags": []
   },
   "outputs": [
    {
     "name": "stdout",
     "output_type": "stream",
     "text": [
      "# conda environments:\n",
      "#\n",
      "base                     /opt/conda\n",
      "jupyterlab               /opt/conda/envs/jupyterlab\n",
      "prolig_0001           *  /opt/conda/envs/prolig_0001\n",
      "pytorch                  /opt/conda/envs/pytorch\n",
      "tensorflow               /opt/conda/envs/tensorflow\n",
      "\n",
      "/home/jupyter/google_cloud/protein_ligand/neuralPlexer\n"
     ]
    }
   ],
   "source": [
    "%%bash\n",
    "conda env list\n",
    "pwd"
   ]
  },
  {
   "cell_type": "markdown",
   "id": "57a5865e-e4fa-4993-acbf-a905b226a223",
   "metadata": {},
   "source": [
    "# **installation**"
   ]
  },
  {
   "cell_type": "code",
   "execution_count": null,
   "id": "4ff72bab-b903-4aea-8888-11b835bd0e48",
   "metadata": {},
   "outputs": [],
   "source": []
  }
 ],
 "metadata": {
  "environment": {
   "kernel": "conda-env-prolig_0001-py",
   "name": "workbench-notebooks.m117",
   "type": "gcloud",
   "uri": "us-docker.pkg.dev/deeplearning-platform-release/gcr.io/workbench-notebooks:m117"
  },
  "kernelspec": {
   "display_name": "Python 3 (ipykernel)",
   "language": "python",
   "name": "conda-env-prolig_0001-py"
  },
  "language_info": {
   "codemirror_mode": {
    "name": "ipython",
    "version": 3
   },
   "file_extension": ".py",
   "mimetype": "text/x-python",
   "name": "python",
   "nbconvert_exporter": "python",
   "pygments_lexer": "ipython3",
   "version": "3.9.18"
  }
 },
 "nbformat": 4,
 "nbformat_minor": 5
}
