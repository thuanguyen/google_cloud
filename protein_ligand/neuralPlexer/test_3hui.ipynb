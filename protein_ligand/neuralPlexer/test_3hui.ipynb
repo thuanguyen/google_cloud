{
 "cells": [
  {
   "cell_type": "markdown",
   "id": "2cd8c550-f75d-4088-a464-630e8923241c",
   "metadata": {},
   "source": [
    "# **check env**"
   ]
  },
  {
   "cell_type": "code",
   "execution_count": 1,
   "id": "e465ba53-4f5c-431f-b818-fd7cd7ca0142",
   "metadata": {
    "tags": []
   },
   "outputs": [
    {
     "name": "stdout",
     "output_type": "stream",
     "text": [
      "# conda environments:\n",
      "#\n",
      "base                     /opt/conda\n",
      "jupyterlab               /opt/conda/envs/jupyterlab\n",
      "prolig_0001           *  /opt/conda/envs/prolig_0001\n",
      "pytorch                  /opt/conda/envs/pytorch\n",
      "tensorflow               /opt/conda/envs/tensorflow\n",
      "\n",
      "/home/jupyter/google_cloud/protein_ligand/neuralPlexer\n"
     ]
    }
   ],
   "source": [
    "%%bash\n",
    "conda env list\n",
    "pwd"
   ]
  },
  {
   "cell_type": "markdown",
   "id": "38daf364-1259-4441-84f7-cc86a7ae799b",
   "metadata": {},
   "source": [
    "# **introduction**"
   ]
  },
  {
   "cell_type": "code",
   "execution_count": null,
   "id": "64364a0e-649a-4a45-bf54-a24931b1c964",
   "metadata": {},
   "outputs": [],
   "source": []
  }
 ],
 "metadata": {
  "environment": {
   "kernel": "conda-env-prolig_0001-py",
   "name": "workbench-notebooks.m117",
   "type": "gcloud",
   "uri": "us-docker.pkg.dev/deeplearning-platform-release/gcr.io/workbench-notebooks:m117"
  },
  "kernelspec": {
   "display_name": "Python 3 (ipykernel)",
   "language": "python",
   "name": "conda-env-prolig_0001-py"
  },
  "language_info": {
   "codemirror_mode": {
    "name": "ipython",
    "version": 3
   },
   "file_extension": ".py",
   "mimetype": "text/x-python",
   "name": "python",
   "nbconvert_exporter": "python",
   "pygments_lexer": "ipython3",
   "version": "3.9.18"
  }
 },
 "nbformat": 4,
 "nbformat_minor": 5
}
