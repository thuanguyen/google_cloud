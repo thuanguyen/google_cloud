{
 "cells": [
  {
   "cell_type": "markdown",
   "id": "2cd8c550-f75d-4088-a464-630e8923241c",
   "metadata": {},
   "source": [
    "# **check env**"
   ]
  },
  {
   "cell_type": "code",
   "execution_count": 1,
   "id": "e465ba53-4f5c-431f-b818-fd7cd7ca0142",
   "metadata": {
    "collapsed": true,
    "jupyter": {
     "outputs_hidden": true
    },
    "tags": []
   },
   "outputs": [
    {
     "name": "stdout",
     "output_type": "stream",
     "text": [
      "# conda environments:\n",
      "#\n",
      "base                     /opt/conda\n",
      "jupyterlab               /opt/conda/envs/jupyterlab\n",
      "prolig_0001           *  /opt/conda/envs/prolig_0001\n",
      "pytorch                  /opt/conda/envs/pytorch\n",
      "tensorflow               /opt/conda/envs/tensorflow\n",
      "\n",
      "/home/jupyter/google_cloud/protein_ligand/neuralPlexer\n"
     ]
    }
   ],
   "source": [
    "%%bash\n",
    "conda env list\n",
    "pwd"
   ]
  },
  {
   "cell_type": "markdown",
   "id": "38daf364-1259-4441-84f7-cc86a7ae799b",
   "metadata": {},
   "source": [
    "# **introduction**\n",
    "- [neuralpolexer](https://github.com/zrqiao/NeuralPLexer/tree/main)"
   ]
  },
  {
   "cell_type": "markdown",
   "id": "97c44fc0-b566-449a-a517-1a0fdc558849",
   "metadata": {},
   "source": [
    "# **running**"
   ]
  },
  {
   "cell_type": "markdown",
   "id": "0e458568-f8d1-4377-bc90-fa82aed3ae9b",
   "metadata": {},
   "source": [
    "## **test - batched_structure_sampling**"
   ]
  },
  {
   "cell_type": "code",
   "execution_count": null,
   "id": "64364a0e-649a-4a45-bf54-a24931b1c964",
   "metadata": {
    "tags": []
   },
   "outputs": [],
   "source": [
    "import subprocess\n",
    "\n",
    "# Define variables for paths\n",
    "input_receptor_path = \"MSNGPEPHGNKIEQPEIRADERQDAGGPANGAPSTSGGAYSQGAKSGGQAAPDPSGSYGIKDAPVAPATIAFEFDGQQVEAQPGETIWAVAKRLGTHIPHLCHKPDPGYRPDGNCRACMVEIEGERVLAASCKRTPAIGMKVKSATERATKARAMVLELLVADQPERATSHDPSSHFWVQADVLDVTESRFPAAERWTSDVSHPAMSVNLDACIQCNLCVRACREVQVNDVIGMAYRAAGSKVVFDFDDPMGGSTCVACGECVQACPTGALMPAAYLDANQTRTVYPDREVKSLCPYCGVGCQVSYKVKDERIVYAEGVNGPANQNRLCVKGRFGFDYVHHPHRLTVPLIRLENVPKDANDQVDPANPWTHFREATWEEALDRAAGGLKAIRDTNGRKALAGFGSAKGSNEEAYLFQKLVRLGFGTNNVDHCTRLCHASSVAALMEGLNSGAVTAPFSAALDAEVIVVIGANPTVNHPVAATFLKNAVKQRGAKLIIMDPRRQTLSRHAYRHLAFRPGSDVAMLNAMLNVIVTEGLYDEQYIAGYTENFEALREKIVDFTPEKMASVCGIDAETLREVARLYARAKSSLIFWGMGVSQHVHGTDNSRCLIALALITGQIGRPGTGLHPLRGQNNVQGASDAGLIPMVYPDYQSVEKDAVRELFEEFWGQSLDPQKGLTVVEIMRAIHAGEIRGMFVEGENPAMSDPDLNHARHALAMLDHLVVQDLFLTETAFHADVVLPASAFAEKAGTFTNTDRRVQIAQPVVAPPGDARQDWWIIQELARRLDLDWNYGGPADIFAEMAQVMPSLNNITWERLEREGAVTYPVDAPDQPGNEIIFYAGFPTESGRAKIVPAAIVPPDEVPDDEFPMVLSTGRVLEHWHTGSMTRRAGVLDALEPEAVAFMAPKELYRLGLRPGGSMRLETRRGAVVLKVRSDRDVPIGMIFMPFCYAEAAANLLTNPALDPLGKIPEFKFCAARVVPAEAAPMAAESGGGGHHHHHH|MSEASGTVRSFAHPGRGRNVARAVPKGRQVDPHAKVEIEELLGTRPRQRDLLIEHLHLIQDTYGQISADHLAALADEMSLAFAEVFETATFYAHFDVVKEGEADIPRLTIRVCDSITCAMFGADELLETLQRELASDAVRVVRAPCVGLCDHAPAVEVGHNFLHRADLASVRAAVEAEDTHAHIPTYVDYDAYRAGGGYATLERLRSGELPVDDVLKVLDDGGLRGLGGAGFPTGRKWRSVRGEPGPRLMAVNGDEGEPGTFKDQLYLNTDPHRFLEGMLIGAHVVEAADVYIYLRDEYPISREILAREIAKLPEGGTRIHLRRGAGAYICGEESSLIESLEGKRGLPRHKPPFPFQVGLFNRPTLINNIETLFWVRDLIERGAEWWKSHGRNGRVGLRSYSVSGRVKEPGVKLAPAGLTIQELIDEYCGGISDGHSFAAYLPGGASGGILPASMNDIPLDFGTLEKYGCFIGSAAVVILSDQDDVRGAALNLMKFFEDESCGQCTPCRSGTQKARMLMENGVWDTDLLGELAQCMRDASICGLGQAASNPVSTVIKYFPDLFPEPRAVAAE\"\n",
    "out_path = \"/home/jupyter/google_cloud/protein_ligand/neuralPlexer/mefdh_1\"\n",
    "model_checkpoint_path = \"/home/jupyter/neuralplexermodels_downstream_datasets_predictions/models/complex_structure_prediction.ckpt\"\n",
    "\n",
    "command = [\n",
    "    \"neuralplexer-inference\",\n",
    "    \"--task=batched_structure_sampling\",\n",
    "    \"--input-receptor\", input_receptor_path,\n",
    "    \"--out-path\", out_path,\n",
    "    \"--model-checkpoint\", model_checkpoint_path,\n",
    "    \"--n-samples\", \"5\",\n",
    "    \"--chunk-size\", \"1\",\n",
    "    \"--num-steps=40\",\n",
    "    \"--cuda\",\n",
    "    \"--sampler=langevin_simulated_annealing\",\n",
    "    \"--detect-covalent\",\n",
    "    \"--separate-pdb\",\n",
    "    \"--rank-outputs-by-confidence\"\n",
    "]\n",
    "\n",
    "# Run the command\n",
    "result = subprocess.run(command, capture_output=True, text=True)\n",
    "\n",
    "# Print the stdout and stderr of the command\n",
    "print(\"STDOUT:\", result.stdout)\n",
    "print(\"STDERR:\", result.stderr)\n"
   ]
  }
 ],
 "metadata": {
  "environment": {
   "kernel": "conda-env-prolig_0001-py",
   "name": "workbench-notebooks.m117",
   "type": "gcloud",
   "uri": "us-docker.pkg.dev/deeplearning-platform-release/gcr.io/workbench-notebooks:m117"
  },
  "kernelspec": {
   "display_name": "Python 3 (ipykernel)",
   "language": "python",
   "name": "conda-env-prolig_0001-py"
  },
  "language_info": {
   "codemirror_mode": {
    "name": "ipython",
    "version": 3
   },
   "file_extension": ".py",
   "mimetype": "text/x-python",
   "name": "python",
   "nbconvert_exporter": "python",
   "pygments_lexer": "ipython3",
   "version": "3.9.18"
  }
 },
 "nbformat": 4,
 "nbformat_minor": 5
}
