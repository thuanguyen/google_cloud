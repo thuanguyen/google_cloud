{
 "cells": [
  {
   "cell_type": "markdown",
   "id": "a99588ed-a0bd-4e6b-8c2d-f9a8b919453f",
   "metadata": {
    "tags": []
   },
   "source": [
    "# **check environment**"
   ]
  },
  {
   "cell_type": "code",
   "execution_count": 1,
   "id": "06a222ef-d024-4cbe-bf77-592a185bf6c0",
   "metadata": {
    "tags": []
   },
   "outputs": [
    {
     "name": "stdout",
     "output_type": "stream",
     "text": [
      "# conda environments:\n",
      "#\n",
      "base                     /opt/conda\n",
      "jupyterlab               /opt/conda/envs/jupyterlab\n",
      "prolig_0001              /opt/conda/envs/prolig_0001\n",
      "pytorch                  /opt/conda/envs/pytorch\n",
      "tensorflow               /opt/conda/envs/tensorflow\n",
      "tvnEnv0002_modeller      /opt/conda/envs/tvnEnv0002_modeller\n",
      "tvnEnv0003_colabfold  *  /opt/conda/envs/tvnEnv0003_colabfold\n",
      "\n",
      "/home/jupyter/google_cloud/protein_ligand/colabfold\n"
     ]
    }
   ],
   "source": [
    "%%bash\n",
    "conda env list\n",
    "pwd"
   ]
  },
  {
   "cell_type": "markdown",
   "id": "ac062c9d-8981-44ff-82ec-9f5aadaefd29",
   "metadata": {},
   "source": [
    "# **prediction of MeFdh1 structure**"
   ]
  },
  {
   "cell_type": "code",
   "execution_count": 1,
   "id": "467e29a5-32a6-49fb-b189-488a1393dffa",
   "metadata": {
    "tags": []
   },
   "outputs": [
    {
     "ename": "ImportError",
     "evalue": "cannot import name 'batch' from 'colabfold.colabfold' (/opt/conda/envs/tvnEnv0003_colabfold/lib/python3.8/site-packages/colabfold/colabfold.py)",
     "output_type": "error",
     "traceback": [
      "\u001b[0;31m---------------------------------------------------------------------------\u001b[0m",
      "\u001b[0;31mImportError\u001b[0m                               Traceback (most recent call last)",
      "Cell \u001b[0;32mIn[1], line 1\u001b[0m\n\u001b[0;32m----> 1\u001b[0m \u001b[38;5;28;01mfrom\u001b[39;00m \u001b[38;5;21;01mcolabfold\u001b[39;00m\u001b[38;5;21;01m.\u001b[39;00m\u001b[38;5;21;01mcolabfold\u001b[39;00m \u001b[38;5;28;01mimport\u001b[39;00m batch\n",
      "\u001b[0;31mImportError\u001b[0m: cannot import name 'batch' from 'colabfold.colabfold' (/opt/conda/envs/tvnEnv0003_colabfold/lib/python3.8/site-packages/colabfold/colabfold.py)"
     ]
    }
   ],
   "source": [
    "from colabfold.colabfold import batch"
   ]
  }
 ],
 "metadata": {
  "environment": {
   "kernel": "conda-env-tvnEnv0003_colabfold-py",
   "name": "workbench-notebooks.m117",
   "type": "gcloud",
   "uri": "us-docker.pkg.dev/deeplearning-platform-release/gcr.io/workbench-notebooks:m117"
  },
  "kernelspec": {
   "display_name": "Python 3 (ipykernel)",
   "language": "python",
   "name": "conda-env-tvnEnv0003_colabfold-py"
  },
  "language_info": {
   "codemirror_mode": {
    "name": "ipython",
    "version": 3
   },
   "file_extension": ".py",
   "mimetype": "text/x-python",
   "name": "python",
   "nbconvert_exporter": "python",
   "pygments_lexer": "ipython3",
   "version": "3.8.18"
  }
 },
 "nbformat": 4,
 "nbformat_minor": 5
}
