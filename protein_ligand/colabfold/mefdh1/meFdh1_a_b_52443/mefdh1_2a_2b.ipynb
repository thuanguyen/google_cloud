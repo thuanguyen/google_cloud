{
 "cells": [
  {
   "cell_type": "code",
   "execution_count": 1,
   "id": "2546aa3f-71ca-4b72-91d6-e807f87ee3c9",
   "metadata": {
    "tags": []
   },
   "outputs": [
    {
     "name": "stdout",
     "output_type": "stream",
     "text": [
      "# conda environments:\n",
      "#\n",
      "                         /home/jupyter/google_cloud/protein_ligand/colabfold/localcolabfold/colabfold-conda\n",
      "                         /opt/conda\n",
      "                         /opt/conda/envs/prolig_0001\n",
      "                         /opt/conda/envs/tvnEnv0002_modeller\n",
      "base                  *  /opt/conda/envs/tvnEnv0003_colabfold\n",
      "\n",
      "/home/jupyter/google_cloud/protein_ligand/colabfold/mefdh1\n"
     ]
    }
   ],
   "source": [
    "%%bash\n",
    "conda env list\n",
    "pwd"
   ]
  },
  {
   "cell_type": "markdown",
   "id": "4bc0bb79-b97f-41e1-bca1-02b3be4eb95c",
   "metadata": {},
   "source": [
    "# check"
   ]
  },
  {
   "cell_type": "code",
   "execution_count": 2,
   "id": "bb69ad0f-02ae-445e-b98d-5a1cd1c29de5",
   "metadata": {
    "tags": []
   },
   "outputs": [],
   "source": [
    "display_images = True #@param {type:\"boolean\"}\n",
    "\n",
    "import sys\n",
    "import warnings\n",
    "warnings.simplefilter(action='ignore', category=FutureWarning)\n",
    "from Bio import BiopythonDeprecationWarning\n",
    "warnings.simplefilter(action='ignore', category=BiopythonDeprecationWarning)\n",
    "from pathlib import Path\n",
    "from colabfold.download import download_alphafold_params, default_data_dir\n",
    "from colabfold.utils import setup_logging\n",
    "from colabfold.batch import get_queries, run, set_model_type\n",
    "from colabfold.plot import plot_msa_v2\n",
    "\n",
    "import os\n",
    "import numpy as np"
   ]
  },
  {
   "cell_type": "markdown",
   "id": "9a9ba8e4-cdfa-4a34-9e90-856786bd7706",
   "metadata": {},
   "source": [
    "# input sequence"
   ]
  },
  {
   "cell_type": "code",
   "execution_count": 3,
   "id": "5e67bc33-c3f1-4c34-954c-9a18d19b23bd",
   "metadata": {
    "tags": []
   },
   "outputs": [],
   "source": [
    "mefdh1_alpha = \"MSNGPEPHGNKIEQPEIRADERQDAGGPANGAPSTSGGAYSQGAKSGGQAAPDPSGSYGIKDAPVAPATIAFEFDGQQVEAQPGETIWAVAKRLGTHIPHLCHKPDPGYRPDGNCRACMVEIEGERVLAASCKRTPAIGMKVKSATERATKARAMVLELLVADQPERATSHDPSSHFWVQADVLDVTESRFPAAERWTSDVSHPAMSVNLDACIQCNLCVRACREVQVNDVIGMAYRAAGSKVVFDFDDPMGGSTCVACGECVQACPTGALMPAAYLDANQTRTVYPDREVKSLCPYCGVGCQVSYKVKDERIVYAEGVNGPANQNRLCVKGRFGFDYVHHPHRLTVPLIRLENVPKDANDQVDPANPWTHFREATWEEALDRAAGGLKAIRDTNGRKALAGFGSAKGSNEEAYLFQKLVRLGFGTNNVDHCTRLCHASSVAALMEGLNSGAVTAPFSAALDAEVIVVIGANPTVNHPVAATFLKNAVKQRGAKLIIMDPRRQTLSRHAYRHLAFRPGSDVAMLNAMLNVIVTEGLYDEQYIAGYTENFEALREKIVDFTPEKMASVCGIDAETLREVARLYARAKSSLIFWGMGVSQHVHGTDNSRCLIALALITGQIGRPGTGLHPLRGQNNVQGASDAGLIPMVYPDYQSVEKDAVRELFEEFWGQSLDPQKGLTVVEIMRAIHAGEIRGMFVEGENPAMSDPDLNHARHALAMLDHLVVQDLFLTETAFHADVVLPASAFAEKAGTFTNTDRRVQIAQPVVAPPGDARQDWWIIQELARRLDLDWNYGGPADIFAEMAQVMPSLNNITWERLEREGAVTYPVDAPDQPGNEIIFYAGFPTESGRAKIVPAAIVPPDEVPDDEFPMVLSTGRVLEHWHTGSMTRRAGVLDALEPEAVAFMAPKELYRLGLRPGGSMRLETRRGAVVLKVRSDRDVPIGMIFMPFCYAEAAANLLTNPALDPLGKIPEFKFCAARVVPAEAAPMAAESGGGGHHHHHH\"\n",
    "mefdh1_beta = \"MSEASGTVRSFAHPGRGRNVARAVPKGRQVDPHAKVEIEELLGTRPRQRDLLIEHLHLIQDTYGQISADHLAALADEMSLAFAEVFETATFYAHFDVVKEGEADIPRLTIRVCDSITCAMFGADELLETLQRELASDAVRVVRAPCVGLCDHAPAVEVGHNFLHRADLASVRAAVEAEDTHAHIPTYVDYDAYRAGGGYATLERLRSGELPVDDVLKVLDDGGLRGLGGAGFPTGRKWRSVRGEPGPRLMAVNGDEGEPGTFKDQLYLNTDPHRFLEGMLIGAHVVEAADVYIYLRDEYPISREILAREIAKLPEGGTRIHLRRGAGAYICGEESSLIESLEGKRGLPRHKPPFPFQVGLFNRPTLINNIETLFWVRDLIERGAEWWKSHGRNGRVGLRSYSVSGRVKEPGVKLAPAGLTIQELIDEYCGGISDGHSFAAYLPGGASGGILPASMNDIPLDFGTLEKYGCFIGSAAVVILSDQDDVRGAALNLMKFFEDESCGQCTPCRSGTQKARMLMENGVWDTDLLGELAQCMRDASICGLGQAASNPVSTVIKYFPDLFPEPRAVAAE\""
   ]
  },
  {
   "cell_type": "code",
   "execution_count": 4,
   "id": "44316fa3-00b2-4305-97ea-98b16e55ecfa",
   "metadata": {
    "tags": []
   },
   "outputs": [
    {
     "name": "stdout",
     "output_type": "stream",
     "text": [
      "jobname: meFdh1_a_b_52443_0\n",
      "sequence: MSNGPEPHGNKIEQPEIRADERQDAGGPANGAPSTSGGAYSQGAKSGGQAAPDPSGSYGIKDAPVAPATIAFEFDGQQVEAQPGETIWAVAKRLGTHIPHLCHKPDPGYRPDGNCRACMVEIEGERVLAASCKRTPAIGMKVKSATERATKARAMVLELLVADQPERATSHDPSSHFWVQADVLDVTESRFPAAERWTSDVSHPAMSVNLDACIQCNLCVRACREVQVNDVIGMAYRAAGSKVVFDFDDPMGGSTCVACGECVQACPTGALMPAAYLDANQTRTVYPDREVKSLCPYCGVGCQVSYKVKDERIVYAEGVNGPANQNRLCVKGRFGFDYVHHPHRLTVPLIRLENVPKDANDQVDPANPWTHFREATWEEALDRAAGGLKAIRDTNGRKALAGFGSAKGSNEEAYLFQKLVRLGFGTNNVDHCTRLCHASSVAALMEGLNSGAVTAPFSAALDAEVIVVIGANPTVNHPVAATFLKNAVKQRGAKLIIMDPRRQTLSRHAYRHLAFRPGSDVAMLNAMLNVIVTEGLYDEQYIAGYTENFEALREKIVDFTPEKMASVCGIDAETLREVARLYARAKSSLIFWGMGVSQHVHGTDNSRCLIALALITGQIGRPGTGLHPLRGQNNVQGASDAGLIPMVYPDYQSVEKDAVRELFEEFWGQSLDPQKGLTVVEIMRAIHAGEIRGMFVEGENPAMSDPDLNHARHALAMLDHLVVQDLFLTETAFHADVVLPASAFAEKAGTFTNTDRRVQIAQPVVAPPGDARQDWWIIQELARRLDLDWNYGGPADIFAEMAQVMPSLNNITWERLEREGAVTYPVDAPDQPGNEIIFYAGFPTESGRAKIVPAAIVPPDEVPDDEFPMVLSTGRVLEHWHTGSMTRRAGVLDALEPEAVAFMAPKELYRLGLRPGGSMRLETRRGAVVLKVRSDRDVPIGMIFMPFCYAEAAANLLTNPALDPLGKIPEFKFCAARVVPAEAAPMAAESGGGGHHHHHH:MSEASGTVRSFAHPGRGRNVARAVPKGRQVDPHAKVEIEELLGTRPRQRDLLIEHLHLIQDTYGQISADHLAALADEMSLAFAEVFETATFYAHFDVVKEGEADIPRLTIRVCDSITCAMFGADELLETLQRELASDAVRVVRAPCVGLCDHAPAVEVGHNFLHRADLASVRAAVEAEDTHAHIPTYVDYDAYRAGGGYATLERLRSGELPVDDVLKVLDDGGLRGLGGAGFPTGRKWRSVRGEPGPRLMAVNGDEGEPGTFKDQLYLNTDPHRFLEGMLIGAHVVEAADVYIYLRDEYPISREILAREIAKLPEGGTRIHLRRGAGAYICGEESSLIESLEGKRGLPRHKPPFPFQVGLFNRPTLINNIETLFWVRDLIERGAEWWKSHGRNGRVGLRSYSVSGRVKEPGVKLAPAGLTIQELIDEYCGGISDGHSFAAYLPGGASGGILPASMNDIPLDFGTLEKYGCFIGSAAVVILSDQDDVRGAALNLMKFFEDESCGQCTPCRSGTQKARMLMENGVWDTDLLGELAQCMRDASICGLGQAASNPVSTVIKYFPDLFPEPRAVAAE\n",
      "length: 1572\n"
     ]
    }
   ],
   "source": [
    "import os\n",
    "import re\n",
    "import hashlib\n",
    "import sys\n",
    "\n",
    "from sys import version_info\n",
    "python_version = f\"{version_info.major}.{version_info.minor}\"\n",
    "\n",
    "def add_hash(x, y):\n",
    "    return x + \"_\" + hashlib.sha1(y.encode()).hexdigest()[:5]\n",
    "\n",
    "# Input your protein sequence here\n",
    "query_sequence = mefdh1_alpha + \":\" + mefdh1_beta\n",
    "# Use `:` to specify inter-protein chainbreaks for modeling complexes (supports homo- and hetero-oligomers). For example, \"PI...SK:PI...SK\" for a homodimer\n",
    "jobname = 'meFdh1_a_b'  # Name of your job\n",
    "num_relax = 1  # Number of models to use (0, 1, 5)\n",
    "template_mode = \"custom\"  # Template mode (\"none\", \"pdb100\", \"custom\")\n",
    "\n",
    "use_amber = num_relax > 0\n",
    "\n",
    "# Remove whitespaces\n",
    "query_sequence = \"\".join(query_sequence.split())\n",
    "\n",
    "basejobname = \"\".join(jobname.split())\n",
    "basejobname = re.sub(r'\\W+', '', basejobname)\n",
    "jobname = add_hash(basejobname, query_sequence)\n",
    "\n",
    "# Function to check if a directory exists\n",
    "def check(folder):\n",
    "    return not os.path.exists(folder)\n",
    "\n",
    "# Check if directory with jobname exists, create a new directory if it does not\n",
    "if not check(jobname):\n",
    "    n = 0\n",
    "    while not check(f\"{jobname}_{n}\"):\n",
    "        n += 1\n",
    "    jobname = f\"{jobname}_{n}\"\n",
    "\n",
    "# Make directory to save results\n",
    "os.makedirs(jobname, exist_ok=True)\n",
    "\n",
    "# Save queries\n",
    "queries_path = os.path.join(jobname, f\"{jobname}.csv\")\n",
    "with open(queries_path, \"w\") as text_file:\n",
    "    text_file.write(f\"id,sequence\\n{jobname},{query_sequence}\")\n",
    "\n",
    "use_templates = False\n",
    "custom_template_path = None\n",
    "\n",
    "if template_mode == \"pdb100\":\n",
    "    use_templates = True\n",
    "    # Here, you would need to implement your logic to search for templates in pdb100.\n",
    "elif template_mode == \"custom\":\n",
    "    custom_template_path = \"/home/jupyter/google_cloud/protein_ligand/colabfold/mefdh1/meFdh1_a_b_52443/meFdh1_a_b_52443_unrelaxed_alphafold2_multimer_v3_model_4_seed_000.pdb\"\n",
    "    use_templates = True\n",
    "else:\n",
    "    custom_template_path = None\n",
    "    use_templates = False\n",
    "\n",
    "print(\"jobname:\", jobname)\n",
    "print(\"sequence:\", query_sequence)\n",
    "print(\"length:\", len(query_sequence.replace(\":\", \"\")))"
   ]
  },
  {
   "cell_type": "markdown",
   "id": "5f2efb66-b3f6-4fe2-998f-12044347d4d8",
   "metadata": {},
   "source": [
    "# msa option"
   ]
  },
  {
   "cell_type": "code",
   "execution_count": 5,
   "id": "3b0c902c-3e78-47da-abf9-3dd8984ca13c",
   "metadata": {
    "tags": []
   },
   "outputs": [
    {
     "name": "stdout",
     "output_type": "stream",
     "text": [
      "MSA file prepared at: meFdh1_a_b_52443_0/meFdh1_a_b_52443_0.a3m\n"
     ]
    }
   ],
   "source": [
    "import os\n",
    "import sys\n",
    "\n",
    "msa_mode = \"mmseqs2_uniref_env\"  # Options: \"mmseqs2_uniref_env\", \"mmseqs2_uniref\",\"single_sequence\",\"custom\"\n",
    "pair_mode = \"unpaired_paired\"  # Options: \"unpaired_paired\", \"paired\", \"unpaired\"\n",
    "\n",
    "# Decide which a3m to use\n",
    "if \"mmseqs2\" in msa_mode:\n",
    "    a3m_file = os.path.join(jobname, f\"{jobname}.a3m\")\n",
    "\n",
    "elif msa_mode == \"custom\":\n",
    "    # For custom MSA, prompt user to specify the file path\n",
    "    custom_msa_path = input(\"Enter the path to your custom MSA file: \")\n",
    "    a3m_file = os.path.join(jobname, f\"{jobname}.custom.a3m\")\n",
    "    \n",
    "    if not os.path.isfile(custom_msa_path):\n",
    "        print(f\"File not found: {custom_msa_path}\")\n",
    "        sys.exit(1)\n",
    "    \n",
    "    # Process the custom MSA file if necessary\n",
    "    # Assuming the file needs to be copied or moved to the job directory\n",
    "    os.rename(custom_msa_path, a3m_file)\n",
    "    print(f\"Custom MSA file moved to: {a3m_file}\")\n",
    "\n",
    "else:\n",
    "    # For single sequence mode, create an a3m file with the query sequence\n",
    "    a3m_file = os.path.join(jobname, f\"{jobname}.single_sequence.a3m\")\n",
    "    with open(a3m_file, \"w\") as text_file:\n",
    "        text_file.write(f\">1\\n{query_sequence}\")\n",
    "\n",
    "# Additional logic here based on the mode and further processing\n",
    "\n",
    "print(f\"MSA file prepared at: {a3m_file}\")"
   ]
  },
  {
   "cell_type": "markdown",
   "id": "34f463cb-f6c6-4673-a8c5-59d799ace39d",
   "metadata": {},
   "source": [
    "# advanced option"
   ]
  },
  {
   "cell_type": "code",
   "execution_count": 6,
   "id": "da6e5632-2ebd-4638-897f-a9510128e6fd",
   "metadata": {
    "tags": []
   },
   "outputs": [
    {
     "name": "stdout",
     "output_type": "stream",
     "text": [
      "Model type: alphafold2_multimer_v3\n",
      "Number of recycles: 20\n",
      "Recycle early stop tolerance: 0.5\n",
      "Relax max iterations: 200\n",
      "Pairing strategy: greedy\n",
      "Max MSA settings: None\n",
      "Number of seeds: 1\n",
      "Use dropout: False\n",
      "Save all intermediate results: False\n",
      "Save recycles: False\n",
      "DPI for image resolution: 200\n"
     ]
    }
   ],
   "source": [
    "# Advanced settings\n",
    "model_type = \"auto\"  # Options: \"auto\", \"alphafold2_ptm\", \"alphafold2_multimer_v1\", \"alphafold2_multimer_v2\", \"alphafold2_multimer_v3\", \"deepfold_v1\"\n",
    "num_recycles = \"3\"  # Options: \"auto\", \"0\", \"1\", \"3\", \"6\", \"12\", \"24\", \"48\"\n",
    "recycle_early_stop_tolerance = \"auto\"  # Options: \"auto\", \"0.0\", \"0.5\", \"1.0\"\n",
    "relax_max_iterations = 200  # Options: 0, 200, 2000\n",
    "pairing_strategy = \"greedy\"  # Options: \"greedy\", \"complete\"\n",
    "max_msa = \"auto\"  # Options: \"auto\", specific limits like \"512:1024\"\n",
    "num_seeds = 1  # Options: 1, 2, 4, 8, 16\n",
    "use_dropout = False  # Options: True, False\n",
    "save_all = False  # Options: True, False\n",
    "save_recycles = False  # Options: True, False\n",
    "dpi = 200  # Image resolution for output\n",
    "\n",
    "# Parse and set the options based on the user input\n",
    "num_recycles = None if num_recycles == \"auto\" else int(num_recycles)\n",
    "recycle_early_stop_tolerance = None if recycle_early_stop_tolerance == \"auto\" else float(recycle_early_stop_tolerance)\n",
    "if max_msa == \"auto\":\n",
    "    max_msa = None\n",
    "\n",
    "# Handle model type and recycles based on user selection\n",
    "if model_type == \"auto\":\n",
    "    model_type = \"alphafold2_ptm\" if query_sequence.count(\":\") == 0 else \"alphafold2_multimer_v3\"\n",
    "    num_recycles = 20 if model_type == \"alphafold2_multimer_v3\" else 3\n",
    "    recycle_early_stop_tolerance = 0.5 if model_type == \"alphafold2_multimer_v3\" else 0.0\n",
    "\n",
    "# Print the settings for confirmation\n",
    "print(f\"Model type: {model_type}\")\n",
    "print(f\"Number of recycles: {num_recycles}\")\n",
    "print(f\"Recycle early stop tolerance: {recycle_early_stop_tolerance}\")\n",
    "print(f\"Relax max iterations: {relax_max_iterations}\")\n",
    "print(f\"Pairing strategy: {pairing_strategy}\")\n",
    "print(f\"Max MSA settings: {max_msa}\")\n",
    "print(f\"Number of seeds: {num_seeds}\")\n",
    "print(f\"Use dropout: {use_dropout}\")\n",
    "print(f\"Save all intermediate results: {save_all}\")\n",
    "print(f\"Save recycles: {save_recycles}\")\n",
    "print(f\"DPI for image resolution: {dpi}\")\n",
    "\n",
    "# Replace Google Drive saving functionality with local file saving\n",
    "if save_all or save_recycles:\n",
    "    # Implement local saving logic here\n",
    "    print(\"Note: Saving functionality needs to be implemented for local environment.\")\n"
   ]
  },
  {
   "cell_type": "markdown",
   "id": "3c9b72ff-fd3d-45da-ae78-0a6f272f0022",
   "metadata": {},
   "source": [
    "# Run Prediction"
   ]
  },
  {
   "cell_type": "code",
   "execution_count": 7,
   "id": "835a6063-aa17-471b-9096-e3d4c4b29adc",
   "metadata": {
    "tags": []
   },
   "outputs": [
    {
     "name": "stdout",
     "output_type": "stream",
     "text": [
      "2024-03-17 14:12:22,671 Unable to initialize backend 'rocm': NOT_FOUND: Could not find registered platform with name: \"rocm\". Available platform names are: CUDA\n",
      "2024-03-17 14:12:22,675 Unable to initialize backend 'tpu': INTERNAL: Failed to open libtpu.so: libtpu.so: cannot open shared object file: No such file or directory\n",
      "2024-03-17 14:12:26,777 Running on GPU\n",
      "2024-03-17 14:12:27,017 Found 9 citations for tools or databases\n"
     ]
    },
    {
     "ename": "NotADirectoryError",
     "evalue": "[Errno 20] Not a directory: '/home/jupyter/google_cloud/protein_ligand/colabfold/mefdh1/meFdh1_a_b_52443/meFdh1_a_b_52443_unrelaxed_alphafold2_multimer_v3_model_4_seed_000.pdb/pdb70_a3m.ffdata'",
     "output_type": "error",
     "traceback": [
      "\u001b[0;31m---------------------------------------------------------------------------\u001b[0m",
      "\u001b[0;31mNotADirectoryError\u001b[0m                        Traceback (most recent call last)",
      "Cell \u001b[0;32mIn[7], line 64\u001b[0m\n\u001b[1;32m     61\u001b[0m   use_cluster_profile \u001b[38;5;241m=\u001b[39m \u001b[38;5;28;01mTrue\u001b[39;00m\n\u001b[1;32m     63\u001b[0m download_alphafold_params(model_type, Path(\u001b[38;5;124m\"\u001b[39m\u001b[38;5;124m.\u001b[39m\u001b[38;5;124m\"\u001b[39m))\n\u001b[0;32m---> 64\u001b[0m results \u001b[38;5;241m=\u001b[39m \u001b[43mrun\u001b[49m\u001b[43m(\u001b[49m\n\u001b[1;32m     65\u001b[0m \u001b[43m    \u001b[49m\u001b[43mqueries\u001b[49m\u001b[38;5;241;43m=\u001b[39;49m\u001b[43mqueries\u001b[49m\u001b[43m,\u001b[49m\n\u001b[1;32m     66\u001b[0m \u001b[43m    \u001b[49m\u001b[43mresult_dir\u001b[49m\u001b[38;5;241;43m=\u001b[39;49m\u001b[43mresult_dir\u001b[49m\u001b[43m,\u001b[49m\n\u001b[1;32m     67\u001b[0m \u001b[43m    \u001b[49m\u001b[43muse_templates\u001b[49m\u001b[38;5;241;43m=\u001b[39;49m\u001b[43muse_templates\u001b[49m\u001b[43m,\u001b[49m\n\u001b[1;32m     68\u001b[0m \u001b[43m    \u001b[49m\u001b[43mcustom_template_path\u001b[49m\u001b[38;5;241;43m=\u001b[39;49m\u001b[43mcustom_template_path\u001b[49m\u001b[43m,\u001b[49m\n\u001b[1;32m     69\u001b[0m \u001b[43m    \u001b[49m\u001b[43mnum_relax\u001b[49m\u001b[38;5;241;43m=\u001b[39;49m\u001b[43mnum_relax\u001b[49m\u001b[43m,\u001b[49m\n\u001b[1;32m     70\u001b[0m \u001b[43m    \u001b[49m\u001b[43mmsa_mode\u001b[49m\u001b[38;5;241;43m=\u001b[39;49m\u001b[43mmsa_mode\u001b[49m\u001b[43m,\u001b[49m\n\u001b[1;32m     71\u001b[0m \u001b[43m    \u001b[49m\u001b[43mmodel_type\u001b[49m\u001b[38;5;241;43m=\u001b[39;49m\u001b[43mmodel_type\u001b[49m\u001b[43m,\u001b[49m\n\u001b[1;32m     72\u001b[0m \u001b[43m    \u001b[49m\u001b[43mnum_models\u001b[49m\u001b[38;5;241;43m=\u001b[39;49m\u001b[38;5;241;43m5\u001b[39;49m\u001b[43m,\u001b[49m\n\u001b[1;32m     73\u001b[0m \u001b[43m    \u001b[49m\u001b[43mnum_recycles\u001b[49m\u001b[38;5;241;43m=\u001b[39;49m\u001b[43mnum_recycles\u001b[49m\u001b[43m,\u001b[49m\n\u001b[1;32m     74\u001b[0m \u001b[43m    \u001b[49m\u001b[43mrelax_max_iterations\u001b[49m\u001b[38;5;241;43m=\u001b[39;49m\u001b[43mrelax_max_iterations\u001b[49m\u001b[43m,\u001b[49m\n\u001b[1;32m     75\u001b[0m \u001b[43m    \u001b[49m\u001b[43mrecycle_early_stop_tolerance\u001b[49m\u001b[38;5;241;43m=\u001b[39;49m\u001b[43mrecycle_early_stop_tolerance\u001b[49m\u001b[43m,\u001b[49m\n\u001b[1;32m     76\u001b[0m \u001b[43m    \u001b[49m\u001b[43mnum_seeds\u001b[49m\u001b[38;5;241;43m=\u001b[39;49m\u001b[43mnum_seeds\u001b[49m\u001b[43m,\u001b[49m\n\u001b[1;32m     77\u001b[0m \u001b[43m    \u001b[49m\u001b[43muse_dropout\u001b[49m\u001b[38;5;241;43m=\u001b[39;49m\u001b[43muse_dropout\u001b[49m\u001b[43m,\u001b[49m\n\u001b[1;32m     78\u001b[0m \u001b[43m    \u001b[49m\u001b[43mmodel_order\u001b[49m\u001b[38;5;241;43m=\u001b[39;49m\u001b[43m[\u001b[49m\u001b[38;5;241;43m1\u001b[39;49m\u001b[43m,\u001b[49m\u001b[38;5;241;43m2\u001b[39;49m\u001b[43m,\u001b[49m\u001b[38;5;241;43m3\u001b[39;49m\u001b[43m,\u001b[49m\u001b[38;5;241;43m4\u001b[39;49m\u001b[43m,\u001b[49m\u001b[38;5;241;43m5\u001b[39;49m\u001b[43m]\u001b[49m\u001b[43m,\u001b[49m\n\u001b[1;32m     79\u001b[0m \u001b[43m    \u001b[49m\u001b[43mis_complex\u001b[49m\u001b[38;5;241;43m=\u001b[39;49m\u001b[43mis_complex\u001b[49m\u001b[43m,\u001b[49m\n\u001b[1;32m     80\u001b[0m \u001b[43m    \u001b[49m\u001b[43mdata_dir\u001b[49m\u001b[38;5;241;43m=\u001b[39;49m\u001b[43mPath\u001b[49m\u001b[43m(\u001b[49m\u001b[38;5;124;43m\"\u001b[39;49m\u001b[38;5;124;43m.\u001b[39;49m\u001b[38;5;124;43m\"\u001b[39;49m\u001b[43m)\u001b[49m\u001b[43m,\u001b[49m\n\u001b[1;32m     81\u001b[0m \u001b[43m    \u001b[49m\u001b[43mkeep_existing_results\u001b[49m\u001b[38;5;241;43m=\u001b[39;49m\u001b[38;5;28;43;01mFalse\u001b[39;49;00m\u001b[43m,\u001b[49m\n\u001b[1;32m     82\u001b[0m \u001b[43m    \u001b[49m\u001b[43mrank_by\u001b[49m\u001b[38;5;241;43m=\u001b[39;49m\u001b[38;5;124;43m\"\u001b[39;49m\u001b[38;5;124;43mauto\u001b[39;49m\u001b[38;5;124;43m\"\u001b[39;49m\u001b[43m,\u001b[49m\n\u001b[1;32m     83\u001b[0m \u001b[43m    \u001b[49m\u001b[43mpair_mode\u001b[49m\u001b[38;5;241;43m=\u001b[39;49m\u001b[43mpair_mode\u001b[49m\u001b[43m,\u001b[49m\n\u001b[1;32m     84\u001b[0m \u001b[43m    \u001b[49m\u001b[43mpairing_strategy\u001b[49m\u001b[38;5;241;43m=\u001b[39;49m\u001b[43mpairing_strategy\u001b[49m\u001b[43m,\u001b[49m\n\u001b[1;32m     85\u001b[0m \u001b[43m    \u001b[49m\u001b[43mstop_at_score\u001b[49m\u001b[38;5;241;43m=\u001b[39;49m\u001b[38;5;28;43mfloat\u001b[39;49m\u001b[43m(\u001b[49m\u001b[38;5;241;43m100\u001b[39;49m\u001b[43m)\u001b[49m\u001b[43m,\u001b[49m\n\u001b[1;32m     86\u001b[0m \u001b[43m    \u001b[49m\u001b[43mprediction_callback\u001b[49m\u001b[38;5;241;43m=\u001b[39;49m\u001b[43mprediction_callback\u001b[49m\u001b[43m,\u001b[49m\n\u001b[1;32m     87\u001b[0m \u001b[43m    \u001b[49m\u001b[43mdpi\u001b[49m\u001b[38;5;241;43m=\u001b[39;49m\u001b[43mdpi\u001b[49m\u001b[43m,\u001b[49m\n\u001b[1;32m     88\u001b[0m \u001b[43m    \u001b[49m\u001b[43mzip_results\u001b[49m\u001b[38;5;241;43m=\u001b[39;49m\u001b[38;5;28;43;01mFalse\u001b[39;49;00m\u001b[43m,\u001b[49m\n\u001b[1;32m     89\u001b[0m \u001b[43m    \u001b[49m\u001b[43msave_all\u001b[49m\u001b[38;5;241;43m=\u001b[39;49m\u001b[43msave_all\u001b[49m\u001b[43m,\u001b[49m\n\u001b[1;32m     90\u001b[0m \u001b[43m    \u001b[49m\u001b[43mmax_msa\u001b[49m\u001b[38;5;241;43m=\u001b[39;49m\u001b[43mmax_msa\u001b[49m\u001b[43m,\u001b[49m\n\u001b[1;32m     91\u001b[0m \u001b[43m    \u001b[49m\u001b[43muse_cluster_profile\u001b[49m\u001b[38;5;241;43m=\u001b[39;49m\u001b[43muse_cluster_profile\u001b[49m\u001b[43m,\u001b[49m\n\u001b[1;32m     92\u001b[0m \u001b[43m    \u001b[49m\u001b[43minput_features_callback\u001b[49m\u001b[38;5;241;43m=\u001b[39;49m\u001b[43minput_features_callback\u001b[49m\u001b[43m,\u001b[49m\n\u001b[1;32m     93\u001b[0m \u001b[43m    \u001b[49m\u001b[43msave_recycles\u001b[49m\u001b[38;5;241;43m=\u001b[39;49m\u001b[43msave_recycles\u001b[49m\u001b[43m,\u001b[49m\n\u001b[1;32m     94\u001b[0m \u001b[43m    \u001b[49m\u001b[43muser_agent\u001b[49m\u001b[38;5;241;43m=\u001b[39;49m\u001b[38;5;124;43m\"\u001b[39;49m\u001b[38;5;124;43mcolabfold/google-colab-main\u001b[39;49m\u001b[38;5;124;43m\"\u001b[39;49m\u001b[43m,\u001b[49m\n\u001b[1;32m     95\u001b[0m \u001b[43m)\u001b[49m\n\u001b[1;32m     96\u001b[0m results_zip \u001b[38;5;241m=\u001b[39m \u001b[38;5;124mf\u001b[39m\u001b[38;5;124m\"\u001b[39m\u001b[38;5;132;01m{\u001b[39;00mjobname\u001b[38;5;132;01m}\u001b[39;00m\u001b[38;5;124m.result.zip\u001b[39m\u001b[38;5;124m\"\u001b[39m\n\u001b[1;32m     97\u001b[0m os\u001b[38;5;241m.\u001b[39msystem(\u001b[38;5;124mf\u001b[39m\u001b[38;5;124m\"\u001b[39m\u001b[38;5;124mzip -r \u001b[39m\u001b[38;5;132;01m{\u001b[39;00mresults_zip\u001b[38;5;132;01m}\u001b[39;00m\u001b[38;5;124m \u001b[39m\u001b[38;5;132;01m{\u001b[39;00mjobname\u001b[38;5;132;01m}\u001b[39;00m\u001b[38;5;124m\"\u001b[39m)\n",
      "File \u001b[0;32m/opt/conda/envs/tvnEnv0003_colabfold/lib/python3.10/site-packages/colabfold/batch.py:1408\u001b[0m, in \u001b[0;36mrun\u001b[0;34m(queries, result_dir, num_models, is_complex, num_recycles, recycle_early_stop_tolerance, model_order, num_ensemble, model_type, msa_mode, use_templates, custom_template_path, num_relax, relax_max_iterations, relax_tolerance, relax_stiffness, relax_max_outer_iterations, keep_existing_results, rank_by, pair_mode, pairing_strategy, data_dir, host_url, user_agent, random_seed, num_seeds, recompile_padding, zip_results, prediction_callback, save_single_representations, save_pair_representations, jobname_prefix, save_all, save_recycles, use_dropout, use_gpu_relax, stop_at_score, dpi, max_seq, max_extra_seq, pdb_hit_file, local_pdb_path, use_cluster_profile, feature_dict_callback, **kwargs)\u001b[0m\n\u001b[1;32m   1405\u001b[0m         put_mmciffiles_into_resultdir(pdb_hit_file, local_pdb_path, custom_template_path)\n\u001b[1;32m   1407\u001b[0m \u001b[38;5;28;01mif\u001b[39;00m custom_template_path \u001b[38;5;129;01mis\u001b[39;00m \u001b[38;5;129;01mnot\u001b[39;00m \u001b[38;5;28;01mNone\u001b[39;00m:\n\u001b[0;32m-> 1408\u001b[0m     \u001b[43mmk_hhsearch_db\u001b[49m\u001b[43m(\u001b[49m\u001b[43mcustom_template_path\u001b[49m\u001b[43m)\u001b[49m\n\u001b[1;32m   1410\u001b[0m pad_len \u001b[38;5;241m=\u001b[39m \u001b[38;5;241m0\u001b[39m\n\u001b[1;32m   1411\u001b[0m ranks, metrics \u001b[38;5;241m=\u001b[39m [],[]\n",
      "File \u001b[0;32m/opt/conda/envs/tvnEnv0003_colabfold/lib/python3.10/site-packages/colabfold/batch.py:221\u001b[0m, in \u001b[0;36mmk_hhsearch_db\u001b[0;34m(template_dir)\u001b[0m\n\u001b[1;32m    218\u001b[0m \u001b[38;5;28;01mfor\u001b[39;00m f \u001b[38;5;129;01min\u001b[39;00m pdb70_db_files:\n\u001b[1;32m    219\u001b[0m     os\u001b[38;5;241m.\u001b[39mremove(f)\n\u001b[0;32m--> 221\u001b[0m \u001b[38;5;28;01mwith\u001b[39;00m \u001b[38;5;28;43mopen\u001b[39;49m\u001b[43m(\u001b[49m\u001b[43mtemplate_path\u001b[49m\u001b[38;5;241;43m.\u001b[39;49m\u001b[43mjoinpath\u001b[49m\u001b[43m(\u001b[49m\u001b[38;5;124;43m\"\u001b[39;49m\u001b[38;5;124;43mpdb70_a3m.ffdata\u001b[39;49m\u001b[38;5;124;43m\"\u001b[39;49m\u001b[43m)\u001b[49m\u001b[43m,\u001b[49m\u001b[43m \u001b[49m\u001b[38;5;124;43m\"\u001b[39;49m\u001b[38;5;124;43mw\u001b[39;49m\u001b[38;5;124;43m\"\u001b[39;49m\u001b[43m)\u001b[49m \u001b[38;5;28;01mas\u001b[39;00m a3m, \u001b[38;5;28mopen\u001b[39m(\n\u001b[1;32m    222\u001b[0m     template_path\u001b[38;5;241m.\u001b[39mjoinpath(\u001b[38;5;124m\"\u001b[39m\u001b[38;5;124mpdb70_cs219.ffindex\u001b[39m\u001b[38;5;124m\"\u001b[39m), \u001b[38;5;124m\"\u001b[39m\u001b[38;5;124mw\u001b[39m\u001b[38;5;124m\"\u001b[39m\n\u001b[1;32m    223\u001b[0m ) \u001b[38;5;28;01mas\u001b[39;00m cs219_index, \u001b[38;5;28mopen\u001b[39m(\n\u001b[1;32m    224\u001b[0m     template_path\u001b[38;5;241m.\u001b[39mjoinpath(\u001b[38;5;124m\"\u001b[39m\u001b[38;5;124mpdb70_a3m.ffindex\u001b[39m\u001b[38;5;124m\"\u001b[39m), \u001b[38;5;124m\"\u001b[39m\u001b[38;5;124mw\u001b[39m\u001b[38;5;124m\"\u001b[39m\n\u001b[1;32m    225\u001b[0m ) \u001b[38;5;28;01mas\u001b[39;00m a3m_index, \u001b[38;5;28mopen\u001b[39m(\n\u001b[1;32m    226\u001b[0m     template_path\u001b[38;5;241m.\u001b[39mjoinpath(\u001b[38;5;124m\"\u001b[39m\u001b[38;5;124mpdb70_cs219.ffdata\u001b[39m\u001b[38;5;124m\"\u001b[39m), \u001b[38;5;124m\"\u001b[39m\u001b[38;5;124mw\u001b[39m\u001b[38;5;124m\"\u001b[39m\n\u001b[1;32m    227\u001b[0m ) \u001b[38;5;28;01mas\u001b[39;00m cs219:\n\u001b[1;32m    228\u001b[0m     n \u001b[38;5;241m=\u001b[39m \u001b[38;5;241m1000000\u001b[39m\n\u001b[1;32m    229\u001b[0m     index_offset \u001b[38;5;241m=\u001b[39m \u001b[38;5;241m0\u001b[39m\n",
      "\u001b[0;31mNotADirectoryError\u001b[0m: [Errno 20] Not a directory: '/home/jupyter/google_cloud/protein_ligand/colabfold/mefdh1/meFdh1_a_b_52443/meFdh1_a_b_52443_unrelaxed_alphafold2_multimer_v3_model_4_seed_000.pdb/pdb70_a3m.ffdata'"
     ]
    }
   ],
   "source": [
    "display_images = True #@param {type:\"boolean\"}\n",
    "\n",
    "import sys\n",
    "import warnings\n",
    "warnings.simplefilter(action='ignore', category=FutureWarning)\n",
    "from Bio import BiopythonDeprecationWarning\n",
    "warnings.simplefilter(action='ignore', category=BiopythonDeprecationWarning)\n",
    "from pathlib import Path\n",
    "from colabfold.download import download_alphafold_params, default_data_dir\n",
    "from colabfold.utils import setup_logging\n",
    "from colabfold.batch import get_queries, run, set_model_type\n",
    "from colabfold.plot import plot_msa_v2\n",
    "\n",
    "import os\n",
    "import numpy as np\n",
    "try:\n",
    "  K80_chk = os.popen('nvidia-smi | grep \"Tesla K80\" | wc -l').read()\n",
    "except:\n",
    "  K80_chk = \"0\"\n",
    "  pass\n",
    "if \"1\" in K80_chk:\n",
    "  print(\"WARNING: found GPU Tesla K80: limited to total length < 1000\")\n",
    "  if \"TF_FORCE_UNIFIED_MEMORY\" in os.environ:\n",
    "    del os.environ[\"TF_FORCE_UNIFIED_MEMORY\"]\n",
    "  if \"XLA_PYTHON_CLIENT_MEM_FRACTION\" in os.environ:\n",
    "    del os.environ[\"XLA_PYTHON_CLIENT_MEM_FRACTION\"]\n",
    "\n",
    "from colabfold.colabfold import plot_protein\n",
    "from pathlib import Path\n",
    "import matplotlib.pyplot as plt\n",
    "\n",
    "# For some reason we need that to get pdbfixer to import\n",
    "if use_amber and f\"/usr/local/lib/python{python_version}/site-packages/\" not in sys.path:\n",
    "    sys.path.insert(0, f\"/usr/local/lib/python{python_version}/site-packages/\")\n",
    "\n",
    "def input_features_callback(input_features):\n",
    "  if display_images:\n",
    "    plot_msa_v2(input_features)\n",
    "    plt.show()\n",
    "    plt.close()\n",
    "\n",
    "def prediction_callback(protein_obj, length,\n",
    "                        prediction_result, input_features, mode):\n",
    "  model_name, relaxed = mode\n",
    "  if not relaxed:\n",
    "    if display_images:\n",
    "      fig = plot_protein(protein_obj, Ls=length, dpi=150)\n",
    "      plt.show()\n",
    "      plt.close()\n",
    "\n",
    "result_dir = jobname\n",
    "log_filename = os.path.join(jobname,\"log.txt\")\n",
    "setup_logging(Path(log_filename))\n",
    "\n",
    "queries, is_complex = get_queries(queries_path)\n",
    "model_type = set_model_type(is_complex, model_type)\n",
    "\n",
    "if \"multimer\" in model_type and max_msa is not None:\n",
    "  use_cluster_profile = False\n",
    "else:\n",
    "  use_cluster_profile = True\n",
    "\n",
    "download_alphafold_params(model_type, Path(\".\"))\n",
    "results = run(\n",
    "    queries=queries,\n",
    "    result_dir=result_dir,\n",
    "    use_templates=use_templates,\n",
    "    custom_template_path=custom_template_path,\n",
    "    num_relax=num_relax,\n",
    "    msa_mode=msa_mode,\n",
    "    model_type=model_type,\n",
    "    num_models=5,\n",
    "    num_recycles=num_recycles,\n",
    "    relax_max_iterations=relax_max_iterations,\n",
    "    recycle_early_stop_tolerance=recycle_early_stop_tolerance,\n",
    "    num_seeds=num_seeds,\n",
    "    use_dropout=use_dropout,\n",
    "    model_order=[1,2,3,4,5],\n",
    "    is_complex=is_complex,\n",
    "    data_dir=Path(\".\"),\n",
    "    keep_existing_results=False,\n",
    "    rank_by=\"auto\",\n",
    "    pair_mode=pair_mode,\n",
    "    pairing_strategy=pairing_strategy,\n",
    "    stop_at_score=float(100),\n",
    "    prediction_callback=prediction_callback,\n",
    "    dpi=dpi,\n",
    "    zip_results=False,\n",
    "    save_all=save_all,\n",
    "    max_msa=max_msa,\n",
    "    use_cluster_profile=use_cluster_profile,\n",
    "    input_features_callback=input_features_callback,\n",
    "    save_recycles=save_recycles,\n",
    "    user_agent=\"colabfold/google-colab-main\",\n",
    ")\n",
    "results_zip = f\"{jobname}.result.zip\"\n",
    "os.system(f\"zip -r {results_zip} {jobname}\")"
   ]
  },
  {
   "cell_type": "markdown",
   "id": "fdbe1369-b10d-4ee6-b34f-444ade09a718",
   "metadata": {},
   "source": [
    "# display 3d structure"
   ]
  },
  {
   "cell_type": "code",
   "execution_count": null,
   "id": "884bc168-be25-438e-ae02-706c09000a00",
   "metadata": {
    "tags": []
   },
   "outputs": [],
   "source": [
    "#@title Display 3D structure {run: \"auto\"}\n",
    "import py3Dmol\n",
    "import glob\n",
    "import matplotlib.pyplot as plt\n",
    "from colabfold.colabfold import plot_plddt_legend\n",
    "from colabfold.colabfold import pymol_color_list, alphabet_list\n",
    "rank_num = 1 #@param [\"1\", \"2\", \"3\", \"4\", \"5\"] {type:\"raw\"}\n",
    "color = \"lDDT\" #@param [\"chain\", \"lDDT\", \"rainbow\"]\n",
    "show_sidechains = False #@param {type:\"boolean\"}\n",
    "show_mainchains = False #@param {type:\"boolean\"}\n",
    "\n",
    "tag = results[\"rank\"][0][rank_num - 1]\n",
    "jobname_prefix = \".custom\" if msa_mode == \"custom\" else \"\"\n",
    "pdb_filename = f\"{jobname}/{jobname}{jobname_prefix}_unrelaxed_{tag}.pdb\"\n",
    "pdb_file = glob.glob(pdb_filename)\n",
    "\n",
    "def show_pdb(rank_num=1, show_sidechains=False, show_mainchains=False, color=\"lDDT\"):\n",
    "  model_name = f\"rank_{rank_num}\"\n",
    "  view = py3Dmol.view(js='https://3dmol.org/build/3Dmol.js',)\n",
    "  view.addModel(open(pdb_file[0],'r').read(),'pdb')\n",
    "\n",
    "  if color == \"lDDT\":\n",
    "    view.setStyle({'cartoon': {'colorscheme': {'prop':'b','gradient': 'roygb','min':50,'max':90}}})\n",
    "  elif color == \"rainbow\":\n",
    "    view.setStyle({'cartoon': {'color':'spectrum'}})\n",
    "  elif color == \"chain\":\n",
    "    chains = len(queries[0][1]) + 1 if is_complex else 1\n",
    "    for n,chain,color in zip(range(chains),alphabet_list,pymol_color_list):\n",
    "       view.setStyle({'chain':chain},{'cartoon': {'color':color}})\n",
    "\n",
    "  if show_sidechains:\n",
    "    BB = ['C','O','N']\n",
    "    view.addStyle({'and':[{'resn':[\"GLY\",\"PRO\"],'invert':True},{'atom':BB,'invert':True}]},\n",
    "                        {'stick':{'colorscheme':f\"WhiteCarbon\",'radius':0.3}})\n",
    "    view.addStyle({'and':[{'resn':\"GLY\"},{'atom':'CA'}]},\n",
    "                        {'sphere':{'colorscheme':f\"WhiteCarbon\",'radius':0.3}})\n",
    "    view.addStyle({'and':[{'resn':\"PRO\"},{'atom':['C','O'],'invert':True}]},\n",
    "                        {'stick':{'colorscheme':f\"WhiteCarbon\",'radius':0.3}})\n",
    "  if show_mainchains:\n",
    "    BB = ['C','O','N','CA']\n",
    "    view.addStyle({'atom':BB},{'stick':{'colorscheme':f\"WhiteCarbon\",'radius':0.3}})\n",
    "\n",
    "  view.zoomTo()\n",
    "  return view\n",
    "\n",
    "show_pdb(rank_num, show_sidechains, show_mainchains, color).show()\n",
    "if color == \"lDDT\":\n",
    "  plot_plddt_legend().show()"
   ]
  },
  {
   "cell_type": "markdown",
   "id": "d214771e-a74a-446c-8677-4088f56df7a3",
   "metadata": {},
   "source": [
    "# plots"
   ]
  },
  {
   "cell_type": "code",
   "execution_count": null,
   "id": "fdcc8e23-d965-4faf-8999-2a08f77a9f36",
   "metadata": {},
   "outputs": [],
   "source": [
    "#@title Plots {run: \"auto\"}\n",
    "from IPython.display import display, HTML\n",
    "import base64\n",
    "from html import escape\n",
    "\n",
    "# see: https://stackoverflow.com/a/53688522\n",
    "def image_to_data_url(filename):\n",
    "  ext = filename.split('.')[-1]\n",
    "  prefix = f'data:image/{ext};base64,'\n",
    "  with open(filename, 'rb') as f:\n",
    "    img = f.read()\n",
    "  return prefix + base64.b64encode(img).decode('utf-8')\n",
    "\n",
    "pae = \"\"\n",
    "pae_file = os.path.join(jobname,f\"{jobname}{jobname_prefix}_pae.png\")\n",
    "if os.path.isfile(pae_file):\n",
    "    pae = image_to_data_url(pae_file)\n",
    "cov = image_to_data_url(os.path.join(jobname,f\"{jobname}{jobname_prefix}_coverage.png\"))\n",
    "plddt = image_to_data_url(os.path.join(jobname,f\"{jobname}{jobname_prefix}_plddt.png\"))\n",
    "display(HTML(f\"\"\"\n",
    "<style>\n",
    "  img {{\n",
    "    float:left;\n",
    "  }}\n",
    "  .full {{\n",
    "    max-width:100%;\n",
    "  }}\n",
    "  .half {{\n",
    "    max-width:50%;\n",
    "  }}\n",
    "  @media (max-width:640px) {{\n",
    "    .half {{\n",
    "      max-width:100%;\n",
    "    }}\n",
    "  }}\n",
    "</style>\n",
    "<div style=\"max-width:90%; padding:2em;\">\n",
    "  <h1>Plots for {escape(jobname)}</h1>\n",
    "  { '<!--' if pae == '' else '' }<img src=\"{pae}\" class=\"full\" />{ '-->' if pae == '' else '' }\n",
    "  <img src=\"{cov}\" class=\"half\" />\n",
    "  <img src=\"{plddt}\" class=\"half\" />\n",
    "</div>\n",
    "\"\"\"))\n"
   ]
  },
  {
   "cell_type": "markdown",
   "id": "e7a4eb83-9302-4a07-9dc1-130dba249991",
   "metadata": {},
   "source": [
    "# download results"
   ]
  },
  {
   "cell_type": "code",
   "execution_count": null,
   "id": "92735bb9-7067-4bfc-b9bd-38e757fdc064",
   "metadata": {},
   "outputs": [],
   "source": [
    "#@title Package and download results\n",
    "#@markdown If you are having issues downloading the result archive, try disabling your adblocker and run this cell again. If that fails click on the little folder icon to the left, navigate to file: `jobname.result.zip`, right-click and select \\\"Download\\\" (see [screenshot](https://pbs.twimg.com/media/E6wRW2lWUAEOuoe?format=jpg&name=small)).\n",
    "\n",
    "if msa_mode == \"custom\":\n",
    "  print(\"Don't forget to cite your custom MSA generation method.\")\n",
    "\n",
    "files.download(f\"{jobname}.result.zip\")\n",
    "\n",
    "if save_to_google_drive == True and drive:\n",
    "  uploaded = drive.CreateFile({'title': f\"{jobname}.result.zip\"})\n",
    "  uploaded.SetContentFile(f\"{jobname}.result.zip\")\n",
    "  uploaded.Upload()\n",
    "  print(f\"Uploaded {jobname}.result.zip to Google Drive with ID {uploaded.get('id')}\")"
   ]
  }
 ],
 "metadata": {
  "environment": {
   "kernel": "conda-env-tvnEnv0003_colabfold-py",
   "name": "workbench-notebooks.m117",
   "type": "gcloud",
   "uri": "us-docker.pkg.dev/deeplearning-platform-release/gcr.io/workbench-notebooks:m117"
  },
  "kernelspec": {
   "display_name": "Python 3 (ipykernel)",
   "language": "python",
   "name": "conda-env-tvnEnv0003_colabfold-py"
  },
  "language_info": {
   "codemirror_mode": {
    "name": "ipython",
    "version": 3
   },
   "file_extension": ".py",
   "mimetype": "text/x-python",
   "name": "python",
   "nbconvert_exporter": "python",
   "pygments_lexer": "ipython3",
   "version": "3.10.13"
  }
 },
 "nbformat": 4,
 "nbformat_minor": 5
}
