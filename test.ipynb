{
 "cells": [
  {
   "cell_type": "code",
   "execution_count": 2,
   "id": "41795e28-2071-4136-9891-026e96a40c7c",
   "metadata": {
    "tags": []
   },
   "outputs": [],
   "source": [
    "import pandas as pd"
   ]
  },
  {
   "cell_type": "code",
   "execution_count": 4,
   "id": "bf6003ad-1687-4c93-96ea-794745450984",
   "metadata": {},
   "outputs": [],
   "source": [
    "# int4oduction "
   ]
  },
  {
   "cell_type": "code",
   "execution_count": 5,
   "id": "3a60c797-7aa7-4d46-bcf4-8641b9678d78",
   "metadata": {
    "tags": []
   },
   "outputs": [],
   "source": [
    "#thuanguyen"
   ]
  }
 ],
 "metadata": {
  "environment": {
   "kernel": "conda-root-py",
   "name": "workbench-notebooks.m117",
   "type": "gcloud",
   "uri": "us-docker.pkg.dev/deeplearning-platform-release/gcr.io/workbench-notebooks:m117"
  },
  "kernelspec": {
   "display_name": "Python 3 (ipykernel)",
   "language": "python",
   "name": "conda-root-py"
  },
  "language_info": {
   "codemirror_mode": {
    "name": "ipython",
    "version": 3
   },
   "file_extension": ".py",
   "mimetype": "text/x-python",
   "name": "python",
   "nbconvert_exporter": "python",
   "pygments_lexer": "ipython3",
   "version": "3.10.13"
  }
 },
 "nbformat": 4,
 "nbformat_minor": 5
}
