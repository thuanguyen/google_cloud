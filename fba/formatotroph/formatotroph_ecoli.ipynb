{
 "cells": [
  {
   "cell_type": "markdown",
   "id": "8f8d702a-734c-4b18-8ecf-8edcba64e0fa",
   "metadata": {},
   "source": [
    "# check environment"
   ]
  },
  {
   "cell_type": "code",
   "execution_count": 1,
   "id": "1e1967f7-d261-4157-b544-2d2b2bc0a9f8",
   "metadata": {
    "tags": []
   },
   "outputs": [
    {
     "name": "stdout",
     "output_type": "stream",
     "text": [
      "# conda environments:\n",
      "#\n",
      "base                     /opt/conda\n",
      "jupyterlab               /opt/conda/envs/jupyterlab\n",
      "pytorch                  /opt/conda/envs/pytorch\n",
      "tensorflow               /opt/conda/envs/tensorflow\n",
      "tvnEnv0005_cobra      *  /opt/conda/envs/tvnEnv0005_cobra\n",
      "\n",
      "/home/jupyter/google_cloud/fba/formatotroph\n"
     ]
    }
   ],
   "source": [
    "import subprocess\n",
    "\n",
    "# Command to list conda environments\n",
    "conda_env_command = [\"conda\", \"env\", \"list\"]\n",
    "\n",
    "# Command to print current directory\n",
    "pwd_command = [\"pwd\"]\n",
    "\n",
    "# Execute the commands\n",
    "try:\n",
    "    # Run the command to list conda environments\n",
    "    subprocess.run(conda_env_command, check=True)\n",
    "\n",
    "    # Run the command to print current directory\n",
    "    subprocess.run(pwd_command, check=True)\n",
    "except subprocess.CalledProcessError as e:\n",
    "    print(\"An error occurred while executing the command:\", e)\n"
   ]
  },
  {
   "cell_type": "markdown",
   "id": "6a1e649c-9637-4bbd-9473-a33c6fa4a474",
   "metadata": {},
   "source": [
    "# import data from google sheet"
   ]
  },
  {
   "cell_type": "code",
   "execution_count": 1,
   "id": "3005c06a-7379-4850-a844-8b92b40dba54",
   "metadata": {
    "tags": []
   },
   "outputs": [
    {
     "name": "stdout",
     "output_type": "stream",
     "text": [
      "Sheet \"stoimax\" has been read into a DataFrame and assigned to a variable with a similar name.\n",
      "Sheet \"metabolite\" has been read into a DataFrame and assigned to a variable with a similar name.\n",
      "Sheet \"reaction\" has been read into a DataFrame and assigned to a variable with a similar name.\n"
     ]
    }
   ],
   "source": [
    "from google.oauth2.service_account import Credentials\n",
    "from googleapiclient.discovery import build\n",
    "import pandas as pd\n",
    "\n",
    "# Configuration variables\n",
    "SPREADSHEET_url = 'https://docs.google.com/spreadsheets/d/1LuksiakZgUk0-WDZ-GSwJFKvNZS7_Kv425EI-KMUfuI/edit?usp=sharing'\n",
    "SERVICE_ACCOUNT_FILE = '/home/jupyter/google_cloud/fba/gsheet/thuanguyen.json'\n",
    "SCOPES = ['https://www.googleapis.com/auth/spreadsheets.readonly']\n",
    "\n",
    "# Extract the SPREADSHEET_ID from the URL\n",
    "SPREADSHEET_ID = SPREADSHEET_url.split('/')[5]\n",
    "\n",
    "def get_sheet_names(service, spreadsheet_id):\n",
    "    sheet_metadata = service.spreadsheets().get(spreadsheetId=spreadsheet_id).execute()\n",
    "    sheets = sheet_metadata.get('sheets', '')\n",
    "    return [sheet.get(\"properties\", {}).get(\"title\", \"\") for sheet in sheets]\n",
    "\n",
    "def read_sheet_to_dataframe(service, spreadsheet_id, sheet_name):\n",
    "    range_name = f'{sheet_name}'\n",
    "    result = service.spreadsheets().values().get(spreadsheetId=spreadsheet_id, range=range_name).execute()\n",
    "    values = result.get('values', [])\n",
    "    if values and len(values) > 1:\n",
    "        return pd.DataFrame(values[1:], columns=values[0])\n",
    "    else:\n",
    "        print(f'No data found in sheet: {sheet_name}')\n",
    "        return pd.DataFrame()\n",
    "\n",
    "def main():\n",
    "    creds = Credentials.from_service_account_file(SERVICE_ACCOUNT_FILE, scopes=SCOPES)\n",
    "    service = build('sheets', 'v4', credentials=creds)\n",
    "    sheet_names = get_sheet_names(service, SPREADSHEET_ID)\n",
    "    for sheet_name in sheet_names:\n",
    "        df = read_sheet_to_dataframe(service, SPREADSHEET_ID, sheet_name)\n",
    "        # Dynamically assign DataFrame to a variable named after the sheet\n",
    "        globals()[sheet_name.replace(\" \", \"_\")] = df\n",
    "        print(f'Sheet \"{sheet_name}\" has been read into a DataFrame and assigned to a variable with a similar name.')\n",
    "\n",
    "# Execute the script\n",
    "if __name__ == '__main__':\n",
    "    main()\n"
   ]
  },
  {
   "cell_type": "markdown",
   "id": "419c746f-d891-4cb3-a7b1-34bda6d184b4",
   "metadata": {
    "tags": []
   },
   "source": [
    "# import metabolic model"
   ]
  },
  {
   "cell_type": "code",
   "execution_count": 3,
   "id": "d9d78fa6-b2cb-406e-92a3-cac09377ae0e",
   "metadata": {
    "tags": []
   },
   "outputs": [
    {
     "name": "stdout",
     "output_type": "stream",
     "text": [
      "Model iJO1366 successfully loaded.\n"
     ]
    }
   ],
   "source": [
    "import cobra\n",
    "\n",
    "# The ID of the iJO1366 model in the BiGG database\n",
    "model_id = \"iJO1366\"\n",
    "\n",
    "try:\n",
    "    # Attempt to load the model from the BiGG database\n",
    "    model = cobra.io.load_model(model_id, cache=True)\n",
    "    print(f\"Model {model_id} successfully loaded.\")\n",
    "except Exception as e:\n",
    "    print(f\"An error occurred while loading the model: {e}\")\n",
    "\n",
    "# You can now work with the `model` object for your analyses\n"
   ]
  },
  {
   "cell_type": "code",
   "execution_count": 4,
   "id": "b5b57e77-0471-4e0d-aa75-8256a49a3b2d",
   "metadata": {
    "tags": []
   },
   "outputs": [
    {
     "data": {
      "text/html": [
       "\n",
       "        <table>\n",
       "            <tr>\n",
       "                <td><strong>Name</strong></td>\n",
       "                <td>iJO1366</td>\n",
       "            </tr><tr>\n",
       "                <td><strong>Memory address</strong></td>\n",
       "                <td>7fa2b7f5d3d0</td>\n",
       "            </tr><tr>\n",
       "                <td><strong>Number of metabolites</strong></td>\n",
       "                <td>1805</td>\n",
       "            </tr><tr>\n",
       "                <td><strong>Number of reactions</strong></td>\n",
       "                <td>2583</td>\n",
       "            </tr><tr>\n",
       "                <td><strong>Number of genes</strong></td>\n",
       "                <td>1367</td>\n",
       "            </tr><tr>\n",
       "                <td><strong>Number of groups</strong></td>\n",
       "                <td>37</td>\n",
       "            </tr><tr>\n",
       "                <td><strong>Objective expression</strong></td>\n",
       "                <td>1.0*BIOMASS_Ec_iJO1366_core_53p95M - 1.0*BIOMASS_Ec_iJO1366_core_53p95M_reverse_5c8b1</td>\n",
       "            </tr><tr>\n",
       "                <td><strong>Compartments</strong></td>\n",
       "                <td>cytosol, extracellular space, periplasm</td>\n",
       "            </tr>\n",
       "          </table>"
      ],
      "text/plain": [
       "<Model iJO1366 at 0x7fa2b7f5d3d0>"
      ]
     },
     "execution_count": 4,
     "metadata": {},
     "output_type": "execute_result"
    }
   ],
   "source": [
    "model"
   ]
  },
  {
   "cell_type": "markdown",
   "id": "de774f0b-11ef-4e79-b225-467d9e06a3ee",
   "metadata": {},
   "source": [
    "# check metabolites in model"
   ]
  },
  {
   "cell_type": "code",
   "execution_count": null,
   "id": "8e74b8cd-17d4-43b9-b3b2-099379f6eddc",
   "metadata": {},
   "outputs": [],
   "source": []
  }
 ],
 "metadata": {
  "environment": {
   "kernel": "conda-env-tvnEnv0005_cobra-py",
   "name": "workbench-notebooks.m119",
   "type": "gcloud",
   "uri": "us-docker.pkg.dev/deeplearning-platform-release/gcr.io/workbench-notebooks:m119"
  },
  "kernelspec": {
   "display_name": "Python 3 (ipykernel) (Local)",
   "language": "python",
   "name": "conda-env-tvnEnv0005_cobra-py"
  },
  "language_info": {
   "codemirror_mode": {
    "name": "ipython",
    "version": 3
   },
   "file_extension": ".py",
   "mimetype": "text/x-python",
   "name": "python",
   "nbconvert_exporter": "python",
   "pygments_lexer": "ipython3",
   "version": "3.12.2"
  }
 },
 "nbformat": 4,
 "nbformat_minor": 5
}
