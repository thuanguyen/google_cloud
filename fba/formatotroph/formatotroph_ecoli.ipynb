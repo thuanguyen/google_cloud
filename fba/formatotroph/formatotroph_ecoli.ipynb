{
 "cells": [
  {
   "cell_type": "markdown",
   "id": "8f8d702a-734c-4b18-8ecf-8edcba64e0fa",
   "metadata": {},
   "source": [
    "# check environment"
   ]
  },
  {
   "cell_type": "code",
   "execution_count": 1,
   "id": "1e1967f7-d261-4157-b544-2d2b2bc0a9f8",
   "metadata": {
    "tags": []
   },
   "outputs": [
    {
     "name": "stdout",
     "output_type": "stream",
     "text": [
      "# conda environments:\n",
      "#\n",
      "base                     /opt/conda\n",
      "jupyterlab               /opt/conda/envs/jupyterlab\n",
      "pytorch                  /opt/conda/envs/pytorch\n",
      "tensorflow               /opt/conda/envs/tensorflow\n",
      "tvnEnv0005_cobra      *  /opt/conda/envs/tvnEnv0005_cobra\n",
      "\n",
      "/home/jupyter/google_cloud/fba/formatotroph\n"
     ]
    }
   ],
   "source": [
    "import subprocess\n",
    "\n",
    "# Command to list conda environments\n",
    "conda_env_command = [\"conda\", \"env\", \"list\"]\n",
    "\n",
    "# Command to print current directory\n",
    "pwd_command = [\"pwd\"]\n",
    "\n",
    "# Execute the commands\n",
    "try:\n",
    "    # Run the command to list conda environments\n",
    "    subprocess.run(conda_env_command, check=True)\n",
    "\n",
    "    # Run the command to print current directory\n",
    "    subprocess.run(pwd_command, check=True)\n",
    "except subprocess.CalledProcessError as e:\n",
    "    print(\"An error occurred while executing the command:\", e)\n"
   ]
  },
  {
   "cell_type": "markdown",
   "id": "6a1e649c-9637-4bbd-9473-a33c6fa4a474",
   "metadata": {},
   "source": [
    "# import data from google sheet"
   ]
  },
  {
   "cell_type": "code",
   "execution_count": 1,
   "id": "3005c06a-7379-4850-a844-8b92b40dba54",
   "metadata": {
    "tags": []
   },
   "outputs": [
    {
     "name": "stdout",
     "output_type": "stream",
     "text": [
      "Sheet \"stoimax\" has been read into a DataFrame and assigned to a variable with a similar name.\n",
      "Sheet \"metabolite\" has been read into a DataFrame and assigned to a variable with a similar name.\n",
      "Sheet \"reaction\" has been read into a DataFrame and assigned to a variable with a similar name.\n"
     ]
    }
   ],
   "source": [
    "from google.oauth2.service_account import Credentials\n",
    "from googleapiclient.discovery import build\n",
    "import pandas as pd\n",
    "\n",
    "# Configuration variables\n",
    "SPREADSHEET_url = 'https://docs.google.com/spreadsheets/d/1LuksiakZgUk0-WDZ-GSwJFKvNZS7_Kv425EI-KMUfuI/edit?usp=sharing'\n",
    "SERVICE_ACCOUNT_FILE = '/home/jupyter/google_cloud/fba/google_sheet/thuanguyen2-230332373cd1.json'\n",
    "SCOPES = ['https://www.googleapis.com/auth/spreadsheets.readonly']\n",
    "\n",
    "# Extract the SPREADSHEET_ID from the URL\n",
    "SPREADSHEET_ID = SPREADSHEET_url.split('/')[5]\n",
    "\n",
    "def get_sheet_names(service, spreadsheet_id):\n",
    "    sheet_metadata = service.spreadsheets().get(spreadsheetId=spreadsheet_id).execute()\n",
    "    sheets = sheet_metadata.get('sheets', '')\n",
    "    return [sheet.get(\"properties\", {}).get(\"title\", \"\") for sheet in sheets]\n",
    "\n",
    "def read_sheet_to_dataframe(service, spreadsheet_id, sheet_name):\n",
    "    range_name = f'{sheet_name}'\n",
    "    result = service.spreadsheets().values().get(spreadsheetId=spreadsheet_id, range=range_name).execute()\n",
    "    values = result.get('values', [])\n",
    "    if values and len(values) > 1:\n",
    "        return pd.DataFrame(values[1:], columns=values[0])\n",
    "    else:\n",
    "        print(f'No data found in sheet: {sheet_name}')\n",
    "        return pd.DataFrame()\n",
    "\n",
    "def main():\n",
    "    creds = Credentials.from_service_account_file(SERVICE_ACCOUNT_FILE, scopes=SCOPES)\n",
    "    service = build('sheets', 'v4', credentials=creds)\n",
    "    sheet_names = get_sheet_names(service, SPREADSHEET_ID)\n",
    "    for sheet_name in sheet_names:\n",
    "        df = read_sheet_to_dataframe(service, SPREADSHEET_ID, sheet_name)\n",
    "        # Dynamically assign DataFrame to a variable named after the sheet\n",
    "        globals()[sheet_name.replace(\" \", \"_\")] = df\n",
    "        print(f'Sheet \"{sheet_name}\" has been read into a DataFrame and assigned to a variable with a similar name.')\n",
    "\n",
    "# Execute the script\n",
    "if __name__ == '__main__':\n",
    "    main()\n"
   ]
  },
  {
   "cell_type": "markdown",
   "id": "419c746f-d891-4cb3-a7b1-34bda6d184b4",
   "metadata": {
    "tags": []
   },
   "source": [
    "# import metabolic model"
   ]
  },
  {
   "cell_type": "code",
   "execution_count": 6,
   "id": "d9d78fa6-b2cb-406e-92a3-cac09377ae0e",
   "metadata": {
    "tags": []
   },
   "outputs": [
    {
     "name": "stdout",
     "output_type": "stream",
     "text": [
      "Model iJO1366 successfully loaded.\n"
     ]
    }
   ],
   "source": [
    "import cobra\n",
    "\n",
    "# The ID of the iJO1366 model in the BiGG database\n",
    "model_id = \"iJO1366\"\n",
    "\n",
    "try:\n",
    "    # Attempt to load the model from the BiGG database\n",
    "    model = cobra.io.load_model(model_id, cache=True)\n",
    "    print(f\"Model {model_id} successfully loaded.\")\n",
    "except Exception as e:\n",
    "    print(f\"An error occurred while loading the model: {e}\")\n",
    "\n",
    "# You can now work with the `model` object for your analyses\n"
   ]
  },
  {
   "cell_type": "code",
   "execution_count": 7,
   "id": "b5b57e77-0471-4e0d-aa75-8256a49a3b2d",
   "metadata": {
    "tags": []
   },
   "outputs": [
    {
     "data": {
      "text/html": [
       "\n",
       "        <table>\n",
       "            <tr>\n",
       "                <td><strong>Name</strong></td>\n",
       "                <td>iJO1366</td>\n",
       "            </tr><tr>\n",
       "                <td><strong>Memory address</strong></td>\n",
       "                <td>7f559a636510</td>\n",
       "            </tr><tr>\n",
       "                <td><strong>Number of metabolites</strong></td>\n",
       "                <td>1805</td>\n",
       "            </tr><tr>\n",
       "                <td><strong>Number of reactions</strong></td>\n",
       "                <td>2583</td>\n",
       "            </tr><tr>\n",
       "                <td><strong>Number of genes</strong></td>\n",
       "                <td>1367</td>\n",
       "            </tr><tr>\n",
       "                <td><strong>Number of groups</strong></td>\n",
       "                <td>37</td>\n",
       "            </tr><tr>\n",
       "                <td><strong>Objective expression</strong></td>\n",
       "                <td>1.0*BIOMASS_Ec_iJO1366_core_53p95M - 1.0*BIOMASS_Ec_iJO1366_core_53p95M_reverse_5c8b1</td>\n",
       "            </tr><tr>\n",
       "                <td><strong>Compartments</strong></td>\n",
       "                <td>cytosol, extracellular space, periplasm</td>\n",
       "            </tr>\n",
       "          </table>"
      ],
      "text/plain": [
       "<Model iJO1366 at 0x7f559a636510>"
      ]
     },
     "execution_count": 7,
     "metadata": {},
     "output_type": "execute_result"
    }
   ],
   "source": [
    "model"
   ]
  },
  {
   "cell_type": "markdown",
   "id": "de774f0b-11ef-4e79-b225-467d9e06a3ee",
   "metadata": {},
   "source": [
    "# check metabolites in model"
   ]
  },
  {
   "cell_type": "code",
   "execution_count": 8,
   "id": "8e74b8cd-17d4-43b9-b3b2-099379f6eddc",
   "metadata": {},
   "outputs": [
    {
     "name": "stdout",
     "output_type": "stream",
     "text": [
      "Metabolites not present in the model: []\n"
     ]
    }
   ],
   "source": [
    "import pandas as pd\n",
    "import cobra\n",
    "\n",
    "# Get the list of metabolite IDs from the metabolite matrix\n",
    "metabolite_ids_matrix = metabolite['id'].tolist()\n",
    "\n",
    "# Get the list of metabolite IDs from the model\n",
    "metabolite_ids_model = [met.id for met in model.metabolites]\n",
    "\n",
    "# Find metabolites in the matrix that are not present in the model\n",
    "metabolites_not_in_model = [met for met in metabolite_ids_matrix if met not in metabolite_ids_model]\n",
    "\n",
    "# Print the list of metabolites not present in the model\n",
    "print(\"Metabolites not present in the model:\", metabolites_not_in_model)\n"
   ]
  },
  {
   "cell_type": "code",
   "execution_count": 2,
   "id": "7eee70f5-13bd-4370-b617-153fc25f021e",
   "metadata": {
    "tags": []
   },
   "outputs": [
    {
     "data": {
      "text/html": [
       "<div>\n",
       "<style scoped>\n",
       "    .dataframe tbody tr th:only-of-type {\n",
       "        vertical-align: middle;\n",
       "    }\n",
       "\n",
       "    .dataframe tbody tr th {\n",
       "        vertical-align: top;\n",
       "    }\n",
       "\n",
       "    .dataframe thead th {\n",
       "        text-align: right;\n",
       "    }\n",
       "</style>\n",
       "<table border=\"1\" class=\"dataframe\">\n",
       "  <thead>\n",
       "    <tr style=\"text-align: right;\">\n",
       "      <th></th>\n",
       "      <th>id</th>\n",
       "      <th>name</th>\n",
       "    </tr>\n",
       "  </thead>\n",
       "  <tbody>\n",
       "    <tr>\n",
       "      <th>0</th>\n",
       "      <td>for_c</td>\n",
       "      <td>formate</td>\n",
       "    </tr>\n",
       "    <tr>\n",
       "      <th>1</th>\n",
       "      <td>thf_c</td>\n",
       "      <td>5,6,7,8-Tetrahydrofolate</td>\n",
       "    </tr>\n",
       "    <tr>\n",
       "      <th>2</th>\n",
       "      <td>10fthf_c</td>\n",
       "      <td>10-Formyltetrahydrofolate</td>\n",
       "    </tr>\n",
       "    <tr>\n",
       "      <th>3</th>\n",
       "      <td>methf_c</td>\n",
       "      <td>5,10-Methenyltetrahydrofolate</td>\n",
       "    </tr>\n",
       "    <tr>\n",
       "      <th>4</th>\n",
       "      <td>mlthf_c</td>\n",
       "      <td>5,10-Methylenetetrahydrofolate</td>\n",
       "    </tr>\n",
       "    <tr>\n",
       "      <th>5</th>\n",
       "      <td>gly_c</td>\n",
       "      <td>Glycine</td>\n",
       "    </tr>\n",
       "    <tr>\n",
       "      <th>6</th>\n",
       "      <td>ser__L_c</td>\n",
       "      <td>Serine</td>\n",
       "    </tr>\n",
       "    <tr>\n",
       "      <th>7</th>\n",
       "      <td>pyr_c</td>\n",
       "      <td>Pyruvate</td>\n",
       "    </tr>\n",
       "    <tr>\n",
       "      <th>8</th>\n",
       "      <td>nadh_c</td>\n",
       "      <td>Nicotinamide adenine dinucleotide</td>\n",
       "    </tr>\n",
       "    <tr>\n",
       "      <th>9</th>\n",
       "      <td>nad_c</td>\n",
       "      <td>Nicotinamide adenine dinucleotide - reduced</td>\n",
       "    </tr>\n",
       "    <tr>\n",
       "      <th>10</th>\n",
       "      <td>nadph_c</td>\n",
       "      <td>Nicotinamide adenine dinucleotide phosphate - ...</td>\n",
       "    </tr>\n",
       "    <tr>\n",
       "      <th>11</th>\n",
       "      <td>nadp_c</td>\n",
       "      <td>Nicotinamide adenine dinucleotide phosphate</td>\n",
       "    </tr>\n",
       "    <tr>\n",
       "      <th>12</th>\n",
       "      <td>atp_c</td>\n",
       "      <td>ATP C10H12N5O13P3</td>\n",
       "    </tr>\n",
       "    <tr>\n",
       "      <th>13</th>\n",
       "      <td>adp_c</td>\n",
       "      <td>ADP C10H12N5O10P2</td>\n",
       "    </tr>\n",
       "    <tr>\n",
       "      <th>14</th>\n",
       "      <td>pi_c</td>\n",
       "      <td>Phosphate</td>\n",
       "    </tr>\n",
       "    <tr>\n",
       "      <th>15</th>\n",
       "      <td>co2_c</td>\n",
       "      <td>CO2 CO2</td>\n",
       "    </tr>\n",
       "    <tr>\n",
       "      <th>16</th>\n",
       "      <td>nh4_c</td>\n",
       "      <td>Ammonium</td>\n",
       "    </tr>\n",
       "    <tr>\n",
       "      <th>17</th>\n",
       "      <td>h2o_c</td>\n",
       "      <td>H2O H2O</td>\n",
       "    </tr>\n",
       "    <tr>\n",
       "      <th>18</th>\n",
       "      <td>h_c</td>\n",
       "      <td>H+</td>\n",
       "    </tr>\n",
       "  </tbody>\n",
       "</table>\n",
       "</div>"
      ],
      "text/plain": [
       "          id                                               name\n",
       "0      for_c                                            formate\n",
       "1      thf_c                           5,6,7,8-Tetrahydrofolate\n",
       "2   10fthf_c                          10-Formyltetrahydrofolate\n",
       "3    methf_c                      5,10-Methenyltetrahydrofolate\n",
       "4    mlthf_c                     5,10-Methylenetetrahydrofolate\n",
       "5      gly_c                                            Glycine\n",
       "6   ser__L_c                                             Serine\n",
       "7      pyr_c                                           Pyruvate\n",
       "8     nadh_c                  Nicotinamide adenine dinucleotide\n",
       "9      nad_c        Nicotinamide adenine dinucleotide - reduced\n",
       "10   nadph_c  Nicotinamide adenine dinucleotide phosphate - ...\n",
       "11    nadp_c        Nicotinamide adenine dinucleotide phosphate\n",
       "12     atp_c                                  ATP C10H12N5O13P3\n",
       "13     adp_c                                  ADP C10H12N5O10P2\n",
       "14      pi_c                                          Phosphate\n",
       "15     co2_c                                            CO2 CO2\n",
       "16     nh4_c                                           Ammonium\n",
       "17     h2o_c                                            H2O H2O\n",
       "18       h_c                                                 H+"
      ]
     },
     "execution_count": 2,
     "metadata": {},
     "output_type": "execute_result"
    }
   ],
   "source": [
    "metabolite"
   ]
  }
 ],
 "metadata": {
  "environment": {
   "kernel": "conda-env-tvnEnv0005_cobra-py",
   "name": "workbench-notebooks.m119",
   "type": "gcloud",
   "uri": "us-docker.pkg.dev/deeplearning-platform-release/gcr.io/workbench-notebooks:m119"
  },
  "kernelspec": {
   "display_name": "Python 3 (ipykernel) (Local)",
   "language": "python",
   "name": "conda-env-tvnEnv0005_cobra-py"
  },
  "language_info": {
   "codemirror_mode": {
    "name": "ipython",
    "version": 3
   },
   "file_extension": ".py",
   "mimetype": "text/x-python",
   "name": "python",
   "nbconvert_exporter": "python",
   "pygments_lexer": "ipython3",
   "version": "3.12.2"
  }
 },
 "nbformat": 4,
 "nbformat_minor": 5
}
