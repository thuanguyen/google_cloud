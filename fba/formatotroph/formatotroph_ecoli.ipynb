{
 "cells": [
  {
   "cell_type": "markdown",
   "id": "8f8d702a-734c-4b18-8ecf-8edcba64e0fa",
   "metadata": {},
   "source": [
    "# check environment"
   ]
  },
  {
   "cell_type": "code",
   "execution_count": 1,
   "id": "1e1967f7-d261-4157-b544-2d2b2bc0a9f8",
   "metadata": {
    "tags": []
   },
   "outputs": [
    {
     "name": "stdout",
     "output_type": "stream",
     "text": [
      "# conda environments:\n",
      "#\n",
      "base                     /opt/conda\n",
      "jupyterlab               /opt/conda/envs/jupyterlab\n",
      "pytorch                  /opt/conda/envs/pytorch\n",
      "tensorflow               /opt/conda/envs/tensorflow\n",
      "tvnEnv0005_cobra      *  /opt/conda/envs/tvnEnv0005_cobra\n",
      "\n",
      "/home/jupyter/google_cloud/fba/formatotroph\n"
     ]
    }
   ],
   "source": [
    "import subprocess\n",
    "\n",
    "# Command to list conda environments\n",
    "conda_env_command = [\"conda\", \"env\", \"list\"]\n",
    "\n",
    "# Command to print current directory\n",
    "pwd_command = [\"pwd\"]\n",
    "\n",
    "# Execute the commands\n",
    "try:\n",
    "    # Run the command to list conda environments\n",
    "    subprocess.run(conda_env_command, check=True)\n",
    "\n",
    "    # Run the command to print current directory\n",
    "    subprocess.run(pwd_command, check=True)\n",
    "except subprocess.CalledProcessError as e:\n",
    "    print(\"An error occurred while executing the command:\", e)\n"
   ]
  },
  {
   "cell_type": "markdown",
   "id": "6a1e649c-9637-4bbd-9473-a33c6fa4a474",
   "metadata": {},
   "source": [
    "# import data from google sheet"
   ]
  },
  {
   "cell_type": "code",
   "execution_count": 1,
   "id": "3005c06a-7379-4850-a844-8b92b40dba54",
   "metadata": {
    "tags": []
   },
   "outputs": [
    {
     "name": "stdout",
     "output_type": "stream",
     "text": [
      "Sheet \"stoimax\" has been read into a DataFrame and assigned to a variable with a similar name.\n",
      "Sheet \"metabolite\" has been read into a DataFrame and assigned to a variable with a similar name.\n",
      "Sheet \"reaction\" has been read into a DataFrame and assigned to a variable with a similar name.\n"
     ]
    }
   ],
   "source": [
    "from google.oauth2.service_account import Credentials\n",
    "from googleapiclient.discovery import build\n",
    "import pandas as pd\n",
    "\n",
    "# Configuration variables\n",
    "SPREADSHEET_url = 'https://docs.google.com/spreadsheets/d/1LuksiakZgUk0-WDZ-GSwJFKvNZS7_Kv425EI-KMUfuI/edit?usp=sharing'\n",
    "SERVICE_ACCOUNT_FILE = '/home/jupyter/google_cloud/fba/google_sheet/thuanguyen2-230332373cd1.json'\n",
    "SCOPES = ['https://www.googleapis.com/auth/spreadsheets.readonly']\n",
    "\n",
    "# Extract the SPREADSHEET_ID from the URL\n",
    "SPREADSHEET_ID = SPREADSHEET_url.split('/')[5]\n",
    "\n",
    "def get_sheet_names(service, spreadsheet_id):\n",
    "    sheet_metadata = service.spreadsheets().get(spreadsheetId=spreadsheet_id).execute()\n",
    "    sheets = sheet_metadata.get('sheets', '')\n",
    "    return [sheet.get(\"properties\", {}).get(\"title\", \"\") for sheet in sheets]\n",
    "\n",
    "def read_sheet_to_dataframe(service, spreadsheet_id, sheet_name):\n",
    "    range_name = f'{sheet_name}'\n",
    "    result = service.spreadsheets().values().get(spreadsheetId=spreadsheet_id, range=range_name).execute()\n",
    "    values = result.get('values', [])\n",
    "    if values and len(values) > 1:\n",
    "        return pd.DataFrame(values[1:], columns=values[0])\n",
    "    else:\n",
    "        print(f'No data found in sheet: {sheet_name}')\n",
    "        return pd.DataFrame()\n",
    "\n",
    "def main():\n",
    "    creds = Credentials.from_service_account_file(SERVICE_ACCOUNT_FILE, scopes=SCOPES)\n",
    "    service = build('sheets', 'v4', credentials=creds)\n",
    "    sheet_names = get_sheet_names(service, SPREADSHEET_ID)\n",
    "    for sheet_name in sheet_names:\n",
    "        df = read_sheet_to_dataframe(service, SPREADSHEET_ID, sheet_name)\n",
    "        # Dynamically assign DataFrame to a variable named after the sheet\n",
    "        globals()[sheet_name.replace(\" \", \"_\")] = df\n",
    "        print(f'Sheet \"{sheet_name}\" has been read into a DataFrame and assigned to a variable with a similar name.')\n",
    "\n",
    "# Execute the script\n",
    "if __name__ == '__main__':\n",
    "    main()\n"
   ]
  },
  {
   "cell_type": "markdown",
   "id": "419c746f-d891-4cb3-a7b1-34bda6d184b4",
   "metadata": {
    "tags": []
   },
   "source": [
    "# import metabolic model"
   ]
  },
  {
   "cell_type": "code",
   "execution_count": 6,
   "id": "d9d78fa6-b2cb-406e-92a3-cac09377ae0e",
   "metadata": {
    "tags": []
   },
   "outputs": [
    {
     "name": "stdout",
     "output_type": "stream",
     "text": [
      "Model iJO1366 successfully loaded.\n"
     ]
    }
   ],
   "source": [
    "import cobra\n",
    "\n",
    "# The ID of the iJO1366 model in the BiGG database\n",
    "model_id = \"iJO1366\"\n",
    "\n",
    "try:\n",
    "    # Attempt to load the model from the BiGG database\n",
    "    model = cobra.io.load_model(model_id, cache=True)\n",
    "    print(f\"Model {model_id} successfully loaded.\")\n",
    "except Exception as e:\n",
    "    print(f\"An error occurred while loading the model: {e}\")\n",
    "\n",
    "# You can now work with the `model` object for your analyses\n"
   ]
  },
  {
   "cell_type": "code",
   "execution_count": 7,
   "id": "b5b57e77-0471-4e0d-aa75-8256a49a3b2d",
   "metadata": {
    "tags": []
   },
   "outputs": [
    {
     "data": {
      "text/html": [
       "\n",
       "        <table>\n",
       "            <tr>\n",
       "                <td><strong>Name</strong></td>\n",
       "                <td>iJO1366</td>\n",
       "            </tr><tr>\n",
       "                <td><strong>Memory address</strong></td>\n",
       "                <td>7f559a636510</td>\n",
       "            </tr><tr>\n",
       "                <td><strong>Number of metabolites</strong></td>\n",
       "                <td>1805</td>\n",
       "            </tr><tr>\n",
       "                <td><strong>Number of reactions</strong></td>\n",
       "                <td>2583</td>\n",
       "            </tr><tr>\n",
       "                <td><strong>Number of genes</strong></td>\n",
       "                <td>1367</td>\n",
       "            </tr><tr>\n",
       "                <td><strong>Number of groups</strong></td>\n",
       "                <td>37</td>\n",
       "            </tr><tr>\n",
       "                <td><strong>Objective expression</strong></td>\n",
       "                <td>1.0*BIOMASS_Ec_iJO1366_core_53p95M - 1.0*BIOMASS_Ec_iJO1366_core_53p95M_reverse_5c8b1</td>\n",
       "            </tr><tr>\n",
       "                <td><strong>Compartments</strong></td>\n",
       "                <td>cytosol, extracellular space, periplasm</td>\n",
       "            </tr>\n",
       "          </table>"
      ],
      "text/plain": [
       "<Model iJO1366 at 0x7f559a636510>"
      ]
     },
     "execution_count": 7,
     "metadata": {},
     "output_type": "execute_result"
    }
   ],
   "source": [
    "model"
   ]
  },
  {
   "cell_type": "markdown",
   "id": "de774f0b-11ef-4e79-b225-467d9e06a3ee",
   "metadata": {},
   "source": [
    "# check metabolites in model"
   ]
  },
  {
   "cell_type": "code",
   "execution_count": 11,
   "id": "8e74b8cd-17d4-43b9-b3b2-099379f6eddc",
   "metadata": {},
   "outputs": [
    {
     "name": "stdout",
     "output_type": "stream",
     "text": [
      "Metabolite status list has been saved to /home/jupyter/google_cloud/fba/formatotroph/check_metabolite/metabolite_status.csv\n"
     ]
    }
   ],
   "source": [
    "import pandas as pd\n",
    "import cobra\n",
    "\n",
    "# Get the list of metabolite IDs from the model for comparison\n",
    "metabolite_ids_model = [met.id for met in model.metabolites]\n",
    "\n",
    "# Create a new column in the metabolite_matrix DataFrame to store the status of each metabolite\n",
    "metabolite['Status'] = metabolite['id'].apply(lambda x: 'Present' if x in metabolite_ids_model else 'Not Present')\n",
    "\n",
    "# Specify the file path where you want to save the status list\n",
    "file_path = '/home/jupyter/google_cloud/fba/formatotroph/check_metabolite/metabolite_status.csv'\n",
    "\n",
    "# Save the DataFrame with metabolite statuses to a CSV file\n",
    "metabolite.to_csv(file_path, index=False)\n",
    "\n",
    "print(f\"Metabolite status list has been saved to {file_path}\")\n"
   ]
  },
  {
   "cell_type": "code",
   "execution_count": 13,
   "id": "7eee70f5-13bd-4370-b617-153fc25f021e",
   "metadata": {
    "tags": []
   },
   "outputs": [
    {
     "data": {
      "text/html": [
       "<div>\n",
       "<style scoped>\n",
       "    .dataframe tbody tr th:only-of-type {\n",
       "        vertical-align: middle;\n",
       "    }\n",
       "\n",
       "    .dataframe tbody tr th {\n",
       "        vertical-align: top;\n",
       "    }\n",
       "\n",
       "    .dataframe thead th {\n",
       "        text-align: right;\n",
       "    }\n",
       "</style>\n",
       "<table border=\"1\" class=\"dataframe\">\n",
       "  <thead>\n",
       "    <tr style=\"text-align: right;\">\n",
       "      <th></th>\n",
       "      <th>id</th>\n",
       "      <th>name</th>\n",
       "      <th>Status</th>\n",
       "    </tr>\n",
       "  </thead>\n",
       "  <tbody>\n",
       "    <tr>\n",
       "      <th>0</th>\n",
       "      <td>for_c</td>\n",
       "      <td>formate</td>\n",
       "      <td>Present</td>\n",
       "    </tr>\n",
       "    <tr>\n",
       "      <th>1</th>\n",
       "      <td>thf_c</td>\n",
       "      <td>5,6,7,8-Tetrahydrofolate</td>\n",
       "      <td>Present</td>\n",
       "    </tr>\n",
       "    <tr>\n",
       "      <th>2</th>\n",
       "      <td>10fthf_c</td>\n",
       "      <td>10-Formyltetrahydrofolate</td>\n",
       "      <td>Present</td>\n",
       "    </tr>\n",
       "    <tr>\n",
       "      <th>3</th>\n",
       "      <td>methf_c</td>\n",
       "      <td>5,10-Methenyltetrahydrofolate</td>\n",
       "      <td>Present</td>\n",
       "    </tr>\n",
       "    <tr>\n",
       "      <th>4</th>\n",
       "      <td>mlthf_c</td>\n",
       "      <td>5,10-Methylenetetrahydrofolate</td>\n",
       "      <td>Present</td>\n",
       "    </tr>\n",
       "    <tr>\n",
       "      <th>5</th>\n",
       "      <td>gly_c</td>\n",
       "      <td>Glycine</td>\n",
       "      <td>Present</td>\n",
       "    </tr>\n",
       "    <tr>\n",
       "      <th>6</th>\n",
       "      <td>ser__L_c</td>\n",
       "      <td>Serine</td>\n",
       "      <td>Present</td>\n",
       "    </tr>\n",
       "    <tr>\n",
       "      <th>7</th>\n",
       "      <td>pyr_c</td>\n",
       "      <td>Pyruvate</td>\n",
       "      <td>Present</td>\n",
       "    </tr>\n",
       "    <tr>\n",
       "      <th>8</th>\n",
       "      <td>nadh_c</td>\n",
       "      <td>Nicotinamide adenine dinucleotide</td>\n",
       "      <td>Present</td>\n",
       "    </tr>\n",
       "    <tr>\n",
       "      <th>9</th>\n",
       "      <td>nad_c</td>\n",
       "      <td>Nicotinamide adenine dinucleotide - reduced</td>\n",
       "      <td>Present</td>\n",
       "    </tr>\n",
       "    <tr>\n",
       "      <th>10</th>\n",
       "      <td>nadph_c</td>\n",
       "      <td>Nicotinamide adenine dinucleotide phosphate - ...</td>\n",
       "      <td>Present</td>\n",
       "    </tr>\n",
       "    <tr>\n",
       "      <th>11</th>\n",
       "      <td>nadp_c</td>\n",
       "      <td>Nicotinamide adenine dinucleotide phosphate</td>\n",
       "      <td>Present</td>\n",
       "    </tr>\n",
       "    <tr>\n",
       "      <th>12</th>\n",
       "      <td>atp_c</td>\n",
       "      <td>ATP C10H12N5O13P3</td>\n",
       "      <td>Present</td>\n",
       "    </tr>\n",
       "    <tr>\n",
       "      <th>13</th>\n",
       "      <td>adp_c</td>\n",
       "      <td>ADP C10H12N5O10P2</td>\n",
       "      <td>Present</td>\n",
       "    </tr>\n",
       "    <tr>\n",
       "      <th>14</th>\n",
       "      <td>pi_c</td>\n",
       "      <td>Phosphate</td>\n",
       "      <td>Present</td>\n",
       "    </tr>\n",
       "    <tr>\n",
       "      <th>15</th>\n",
       "      <td>co2_c</td>\n",
       "      <td>CO2 CO2</td>\n",
       "      <td>Present</td>\n",
       "    </tr>\n",
       "    <tr>\n",
       "      <th>16</th>\n",
       "      <td>nh4_c</td>\n",
       "      <td>Ammonium</td>\n",
       "      <td>Present</td>\n",
       "    </tr>\n",
       "    <tr>\n",
       "      <th>17</th>\n",
       "      <td>h2o_c</td>\n",
       "      <td>H2O H2O</td>\n",
       "      <td>Present</td>\n",
       "    </tr>\n",
       "    <tr>\n",
       "      <th>18</th>\n",
       "      <td>h_c</td>\n",
       "      <td>H+</td>\n",
       "      <td>Present</td>\n",
       "    </tr>\n",
       "  </tbody>\n",
       "</table>\n",
       "</div>"
      ],
      "text/plain": [
       "          id                                               name   Status\n",
       "0      for_c                                            formate  Present\n",
       "1      thf_c                           5,6,7,8-Tetrahydrofolate  Present\n",
       "2   10fthf_c                          10-Formyltetrahydrofolate  Present\n",
       "3    methf_c                      5,10-Methenyltetrahydrofolate  Present\n",
       "4    mlthf_c                     5,10-Methylenetetrahydrofolate  Present\n",
       "5      gly_c                                            Glycine  Present\n",
       "6   ser__L_c                                             Serine  Present\n",
       "7      pyr_c                                           Pyruvate  Present\n",
       "8     nadh_c                  Nicotinamide adenine dinucleotide  Present\n",
       "9      nad_c        Nicotinamide adenine dinucleotide - reduced  Present\n",
       "10   nadph_c  Nicotinamide adenine dinucleotide phosphate - ...  Present\n",
       "11    nadp_c        Nicotinamide adenine dinucleotide phosphate  Present\n",
       "12     atp_c                                  ATP C10H12N5O13P3  Present\n",
       "13     adp_c                                  ADP C10H12N5O10P2  Present\n",
       "14      pi_c                                          Phosphate  Present\n",
       "15     co2_c                                            CO2 CO2  Present\n",
       "16     nh4_c                                           Ammonium  Present\n",
       "17     h2o_c                                            H2O H2O  Present\n",
       "18       h_c                                                 H+  Present"
      ]
     },
     "execution_count": 13,
     "metadata": {},
     "output_type": "execute_result"
    }
   ],
   "source": [
    "metabolite"
   ]
  },
  {
   "cell_type": "markdown",
   "id": "c42fdb07-2f56-47a2-b6e4-6c86e6fbe819",
   "metadata": {},
   "source": [
    "# check reaction in model"
   ]
  },
  {
   "cell_type": "code",
   "execution_count": 20,
   "id": "1a18e655-e151-4e22-989c-c9cab01d323f",
   "metadata": {},
   "outputs": [
    {
     "name": "stdout",
     "output_type": "stream",
     "text": [
      "  Reaction ID                                    Reaction String  \\\n",
      "0   MeFtfL_ex  1 for_c + 1 thf_c + 1 atp_c <--> 1 10fthf_c + ...   \n",
      "1    MeFch_ex        1 10fthf_c + 1 h_c <--> 1 methf_c + 1 h2o_c   \n",
      "2   MeMdtA_ex    1 methf_c + 1 nadph_c <--> 1 mlthf_c + 1 nadp_c   \n",
      "3    EcGcv_en  1 mlthf_c + 1 nadh_c + 1 co2_c + 1 nh4_c <--> ...   \n",
      "4   EcGlyA_en  1 mlthf_c + 1 gly_c + 1 h2o_c <--> 1 thf_c + 1...   \n",
      "5   MeSdaA_ex                  1 ser__L_c <--> 1 pyr_c + 1 nh4_c   \n",
      "6    PdFdh_ex          1 for_c + 1 nad_c <--> 1 nadh_c + 1 co2_c   \n",
      "\n",
      "   Is Present in Model  \n",
      "0                False  \n",
      "1                False  \n",
      "2                False  \n",
      "3                False  \n",
      "4                False  \n",
      "5                False  \n",
      "6                False  \n"
     ]
    },
    {
     "ename": "IsADirectoryError",
     "evalue": "[Errno 21] Is a directory: '/home/jupyter/google_cloud/fba/formatotroph/check_reaction'",
     "output_type": "error",
     "traceback": [
      "\u001b[0;31m---------------------------------------------------------------------------\u001b[0m",
      "\u001b[0;31mIsADirectoryError\u001b[0m                         Traceback (most recent call last)",
      "Cell \u001b[0;32mIn[20], line 44\u001b[0m\n\u001b[1;32m     42\u001b[0m \u001b[38;5;66;03m# Display or save the DataFrame\u001b[39;00m\n\u001b[1;32m     43\u001b[0m \u001b[38;5;28mprint\u001b[39m(reaction_presence_df)\n\u001b[0;32m---> 44\u001b[0m \u001b[43mreaction_presence_df\u001b[49m\u001b[38;5;241;43m.\u001b[39;49m\u001b[43mto_csv\u001b[49m\u001b[43m(\u001b[49m\u001b[38;5;124;43m'\u001b[39;49m\u001b[38;5;124;43m/home/jupyter/google_cloud/fba/formatotroph/check_reaction\u001b[39;49m\u001b[38;5;124;43m'\u001b[39;49m\u001b[43m,\u001b[49m\u001b[43m \u001b[49m\u001b[43mindex\u001b[49m\u001b[38;5;241;43m=\u001b[39;49m\u001b[38;5;28;43;01mFalse\u001b[39;49;00m\u001b[43m)\u001b[49m\n",
      "File \u001b[0;32m/opt/conda/envs/tvnEnv0005_cobra/lib/python3.12/site-packages/pandas/util/_decorators.py:333\u001b[0m, in \u001b[0;36mdeprecate_nonkeyword_arguments.<locals>.decorate.<locals>.wrapper\u001b[0;34m(*args, **kwargs)\u001b[0m\n\u001b[1;32m    327\u001b[0m \u001b[38;5;28;01mif\u001b[39;00m \u001b[38;5;28mlen\u001b[39m(args) \u001b[38;5;241m>\u001b[39m num_allow_args:\n\u001b[1;32m    328\u001b[0m     warnings\u001b[38;5;241m.\u001b[39mwarn(\n\u001b[1;32m    329\u001b[0m         msg\u001b[38;5;241m.\u001b[39mformat(arguments\u001b[38;5;241m=\u001b[39m_format_argument_list(allow_args)),\n\u001b[1;32m    330\u001b[0m         \u001b[38;5;167;01mFutureWarning\u001b[39;00m,\n\u001b[1;32m    331\u001b[0m         stacklevel\u001b[38;5;241m=\u001b[39mfind_stack_level(),\n\u001b[1;32m    332\u001b[0m     )\n\u001b[0;32m--> 333\u001b[0m \u001b[38;5;28;01mreturn\u001b[39;00m \u001b[43mfunc\u001b[49m\u001b[43m(\u001b[49m\u001b[38;5;241;43m*\u001b[39;49m\u001b[43margs\u001b[49m\u001b[43m,\u001b[49m\u001b[43m \u001b[49m\u001b[38;5;241;43m*\u001b[39;49m\u001b[38;5;241;43m*\u001b[39;49m\u001b[43mkwargs\u001b[49m\u001b[43m)\u001b[49m\n",
      "File \u001b[0;32m/opt/conda/envs/tvnEnv0005_cobra/lib/python3.12/site-packages/pandas/core/generic.py:3964\u001b[0m, in \u001b[0;36mNDFrame.to_csv\u001b[0;34m(self, path_or_buf, sep, na_rep, float_format, columns, header, index, index_label, mode, encoding, compression, quoting, quotechar, lineterminator, chunksize, date_format, doublequote, escapechar, decimal, errors, storage_options)\u001b[0m\n\u001b[1;32m   3953\u001b[0m df \u001b[38;5;241m=\u001b[39m \u001b[38;5;28mself\u001b[39m \u001b[38;5;28;01mif\u001b[39;00m \u001b[38;5;28misinstance\u001b[39m(\u001b[38;5;28mself\u001b[39m, ABCDataFrame) \u001b[38;5;28;01melse\u001b[39;00m \u001b[38;5;28mself\u001b[39m\u001b[38;5;241m.\u001b[39mto_frame()\n\u001b[1;32m   3955\u001b[0m formatter \u001b[38;5;241m=\u001b[39m DataFrameFormatter(\n\u001b[1;32m   3956\u001b[0m     frame\u001b[38;5;241m=\u001b[39mdf,\n\u001b[1;32m   3957\u001b[0m     header\u001b[38;5;241m=\u001b[39mheader,\n\u001b[0;32m   (...)\u001b[0m\n\u001b[1;32m   3961\u001b[0m     decimal\u001b[38;5;241m=\u001b[39mdecimal,\n\u001b[1;32m   3962\u001b[0m )\n\u001b[0;32m-> 3964\u001b[0m \u001b[38;5;28;01mreturn\u001b[39;00m \u001b[43mDataFrameRenderer\u001b[49m\u001b[43m(\u001b[49m\u001b[43mformatter\u001b[49m\u001b[43m)\u001b[49m\u001b[38;5;241;43m.\u001b[39;49m\u001b[43mto_csv\u001b[49m\u001b[43m(\u001b[49m\n\u001b[1;32m   3965\u001b[0m \u001b[43m    \u001b[49m\u001b[43mpath_or_buf\u001b[49m\u001b[43m,\u001b[49m\n\u001b[1;32m   3966\u001b[0m \u001b[43m    \u001b[49m\u001b[43mlineterminator\u001b[49m\u001b[38;5;241;43m=\u001b[39;49m\u001b[43mlineterminator\u001b[49m\u001b[43m,\u001b[49m\n\u001b[1;32m   3967\u001b[0m \u001b[43m    \u001b[49m\u001b[43msep\u001b[49m\u001b[38;5;241;43m=\u001b[39;49m\u001b[43msep\u001b[49m\u001b[43m,\u001b[49m\n\u001b[1;32m   3968\u001b[0m \u001b[43m    \u001b[49m\u001b[43mencoding\u001b[49m\u001b[38;5;241;43m=\u001b[39;49m\u001b[43mencoding\u001b[49m\u001b[43m,\u001b[49m\n\u001b[1;32m   3969\u001b[0m \u001b[43m    \u001b[49m\u001b[43merrors\u001b[49m\u001b[38;5;241;43m=\u001b[39;49m\u001b[43merrors\u001b[49m\u001b[43m,\u001b[49m\n\u001b[1;32m   3970\u001b[0m \u001b[43m    \u001b[49m\u001b[43mcompression\u001b[49m\u001b[38;5;241;43m=\u001b[39;49m\u001b[43mcompression\u001b[49m\u001b[43m,\u001b[49m\n\u001b[1;32m   3971\u001b[0m \u001b[43m    \u001b[49m\u001b[43mquoting\u001b[49m\u001b[38;5;241;43m=\u001b[39;49m\u001b[43mquoting\u001b[49m\u001b[43m,\u001b[49m\n\u001b[1;32m   3972\u001b[0m \u001b[43m    \u001b[49m\u001b[43mcolumns\u001b[49m\u001b[38;5;241;43m=\u001b[39;49m\u001b[43mcolumns\u001b[49m\u001b[43m,\u001b[49m\n\u001b[1;32m   3973\u001b[0m \u001b[43m    \u001b[49m\u001b[43mindex_label\u001b[49m\u001b[38;5;241;43m=\u001b[39;49m\u001b[43mindex_label\u001b[49m\u001b[43m,\u001b[49m\n\u001b[1;32m   3974\u001b[0m \u001b[43m    \u001b[49m\u001b[43mmode\u001b[49m\u001b[38;5;241;43m=\u001b[39;49m\u001b[43mmode\u001b[49m\u001b[43m,\u001b[49m\n\u001b[1;32m   3975\u001b[0m \u001b[43m    \u001b[49m\u001b[43mchunksize\u001b[49m\u001b[38;5;241;43m=\u001b[39;49m\u001b[43mchunksize\u001b[49m\u001b[43m,\u001b[49m\n\u001b[1;32m   3976\u001b[0m \u001b[43m    \u001b[49m\u001b[43mquotechar\u001b[49m\u001b[38;5;241;43m=\u001b[39;49m\u001b[43mquotechar\u001b[49m\u001b[43m,\u001b[49m\n\u001b[1;32m   3977\u001b[0m \u001b[43m    \u001b[49m\u001b[43mdate_format\u001b[49m\u001b[38;5;241;43m=\u001b[39;49m\u001b[43mdate_format\u001b[49m\u001b[43m,\u001b[49m\n\u001b[1;32m   3978\u001b[0m \u001b[43m    \u001b[49m\u001b[43mdoublequote\u001b[49m\u001b[38;5;241;43m=\u001b[39;49m\u001b[43mdoublequote\u001b[49m\u001b[43m,\u001b[49m\n\u001b[1;32m   3979\u001b[0m \u001b[43m    \u001b[49m\u001b[43mescapechar\u001b[49m\u001b[38;5;241;43m=\u001b[39;49m\u001b[43mescapechar\u001b[49m\u001b[43m,\u001b[49m\n\u001b[1;32m   3980\u001b[0m \u001b[43m    \u001b[49m\u001b[43mstorage_options\u001b[49m\u001b[38;5;241;43m=\u001b[39;49m\u001b[43mstorage_options\u001b[49m\u001b[43m,\u001b[49m\n\u001b[1;32m   3981\u001b[0m \u001b[43m\u001b[49m\u001b[43m)\u001b[49m\n",
      "File \u001b[0;32m/opt/conda/envs/tvnEnv0005_cobra/lib/python3.12/site-packages/pandas/io/formats/format.py:1014\u001b[0m, in \u001b[0;36mDataFrameRenderer.to_csv\u001b[0;34m(self, path_or_buf, encoding, sep, columns, index_label, mode, compression, quoting, quotechar, lineterminator, chunksize, date_format, doublequote, escapechar, errors, storage_options)\u001b[0m\n\u001b[1;32m    993\u001b[0m     created_buffer \u001b[38;5;241m=\u001b[39m \u001b[38;5;28;01mFalse\u001b[39;00m\n\u001b[1;32m    995\u001b[0m csv_formatter \u001b[38;5;241m=\u001b[39m CSVFormatter(\n\u001b[1;32m    996\u001b[0m     path_or_buf\u001b[38;5;241m=\u001b[39mpath_or_buf,\n\u001b[1;32m    997\u001b[0m     lineterminator\u001b[38;5;241m=\u001b[39mlineterminator,\n\u001b[0;32m   (...)\u001b[0m\n\u001b[1;32m   1012\u001b[0m     formatter\u001b[38;5;241m=\u001b[39m\u001b[38;5;28mself\u001b[39m\u001b[38;5;241m.\u001b[39mfmt,\n\u001b[1;32m   1013\u001b[0m )\n\u001b[0;32m-> 1014\u001b[0m \u001b[43mcsv_formatter\u001b[49m\u001b[38;5;241;43m.\u001b[39;49m\u001b[43msave\u001b[49m\u001b[43m(\u001b[49m\u001b[43m)\u001b[49m\n\u001b[1;32m   1016\u001b[0m \u001b[38;5;28;01mif\u001b[39;00m created_buffer:\n\u001b[1;32m   1017\u001b[0m     \u001b[38;5;28;01massert\u001b[39;00m \u001b[38;5;28misinstance\u001b[39m(path_or_buf, StringIO)\n",
      "File \u001b[0;32m/opt/conda/envs/tvnEnv0005_cobra/lib/python3.12/site-packages/pandas/io/formats/csvs.py:251\u001b[0m, in \u001b[0;36mCSVFormatter.save\u001b[0;34m(self)\u001b[0m\n\u001b[1;32m    247\u001b[0m \u001b[38;5;250m\u001b[39m\u001b[38;5;124;03m\"\"\"\u001b[39;00m\n\u001b[1;32m    248\u001b[0m \u001b[38;5;124;03mCreate the writer & save.\u001b[39;00m\n\u001b[1;32m    249\u001b[0m \u001b[38;5;124;03m\"\"\"\u001b[39;00m\n\u001b[1;32m    250\u001b[0m \u001b[38;5;66;03m# apply compression and byte/text conversion\u001b[39;00m\n\u001b[0;32m--> 251\u001b[0m \u001b[38;5;28;01mwith\u001b[39;00m \u001b[43mget_handle\u001b[49m\u001b[43m(\u001b[49m\n\u001b[1;32m    252\u001b[0m \u001b[43m    \u001b[49m\u001b[38;5;28;43mself\u001b[39;49m\u001b[38;5;241;43m.\u001b[39;49m\u001b[43mfilepath_or_buffer\u001b[49m\u001b[43m,\u001b[49m\n\u001b[1;32m    253\u001b[0m \u001b[43m    \u001b[49m\u001b[38;5;28;43mself\u001b[39;49m\u001b[38;5;241;43m.\u001b[39;49m\u001b[43mmode\u001b[49m\u001b[43m,\u001b[49m\n\u001b[1;32m    254\u001b[0m \u001b[43m    \u001b[49m\u001b[43mencoding\u001b[49m\u001b[38;5;241;43m=\u001b[39;49m\u001b[38;5;28;43mself\u001b[39;49m\u001b[38;5;241;43m.\u001b[39;49m\u001b[43mencoding\u001b[49m\u001b[43m,\u001b[49m\n\u001b[1;32m    255\u001b[0m \u001b[43m    \u001b[49m\u001b[43merrors\u001b[49m\u001b[38;5;241;43m=\u001b[39;49m\u001b[38;5;28;43mself\u001b[39;49m\u001b[38;5;241;43m.\u001b[39;49m\u001b[43merrors\u001b[49m\u001b[43m,\u001b[49m\n\u001b[1;32m    256\u001b[0m \u001b[43m    \u001b[49m\u001b[43mcompression\u001b[49m\u001b[38;5;241;43m=\u001b[39;49m\u001b[38;5;28;43mself\u001b[39;49m\u001b[38;5;241;43m.\u001b[39;49m\u001b[43mcompression\u001b[49m\u001b[43m,\u001b[49m\n\u001b[1;32m    257\u001b[0m \u001b[43m    \u001b[49m\u001b[43mstorage_options\u001b[49m\u001b[38;5;241;43m=\u001b[39;49m\u001b[38;5;28;43mself\u001b[39;49m\u001b[38;5;241;43m.\u001b[39;49m\u001b[43mstorage_options\u001b[49m\u001b[43m,\u001b[49m\n\u001b[1;32m    258\u001b[0m \u001b[43m\u001b[49m\u001b[43m)\u001b[49m \u001b[38;5;28;01mas\u001b[39;00m handles:\n\u001b[1;32m    259\u001b[0m     \u001b[38;5;66;03m# Note: self.encoding is irrelevant here\u001b[39;00m\n\u001b[1;32m    260\u001b[0m     \u001b[38;5;28mself\u001b[39m\u001b[38;5;241m.\u001b[39mwriter \u001b[38;5;241m=\u001b[39m csvlib\u001b[38;5;241m.\u001b[39mwriter(\n\u001b[1;32m    261\u001b[0m         handles\u001b[38;5;241m.\u001b[39mhandle,\n\u001b[1;32m    262\u001b[0m         lineterminator\u001b[38;5;241m=\u001b[39m\u001b[38;5;28mself\u001b[39m\u001b[38;5;241m.\u001b[39mlineterminator,\n\u001b[0;32m   (...)\u001b[0m\n\u001b[1;32m    267\u001b[0m         quotechar\u001b[38;5;241m=\u001b[39m\u001b[38;5;28mself\u001b[39m\u001b[38;5;241m.\u001b[39mquotechar,\n\u001b[1;32m    268\u001b[0m     )\n\u001b[1;32m    270\u001b[0m     \u001b[38;5;28mself\u001b[39m\u001b[38;5;241m.\u001b[39m_save()\n",
      "File \u001b[0;32m/opt/conda/envs/tvnEnv0005_cobra/lib/python3.12/site-packages/pandas/io/common.py:873\u001b[0m, in \u001b[0;36mget_handle\u001b[0;34m(path_or_buf, mode, encoding, compression, memory_map, is_text, errors, storage_options)\u001b[0m\n\u001b[1;32m    868\u001b[0m \u001b[38;5;28;01melif\u001b[39;00m \u001b[38;5;28misinstance\u001b[39m(handle, \u001b[38;5;28mstr\u001b[39m):\n\u001b[1;32m    869\u001b[0m     \u001b[38;5;66;03m# Check whether the filename is to be opened in binary mode.\u001b[39;00m\n\u001b[1;32m    870\u001b[0m     \u001b[38;5;66;03m# Binary mode does not support 'encoding' and 'newline'.\u001b[39;00m\n\u001b[1;32m    871\u001b[0m     \u001b[38;5;28;01mif\u001b[39;00m ioargs\u001b[38;5;241m.\u001b[39mencoding \u001b[38;5;129;01mand\u001b[39;00m \u001b[38;5;124m\"\u001b[39m\u001b[38;5;124mb\u001b[39m\u001b[38;5;124m\"\u001b[39m \u001b[38;5;129;01mnot\u001b[39;00m \u001b[38;5;129;01min\u001b[39;00m ioargs\u001b[38;5;241m.\u001b[39mmode:\n\u001b[1;32m    872\u001b[0m         \u001b[38;5;66;03m# Encoding\u001b[39;00m\n\u001b[0;32m--> 873\u001b[0m         handle \u001b[38;5;241m=\u001b[39m \u001b[38;5;28;43mopen\u001b[39;49m\u001b[43m(\u001b[49m\n\u001b[1;32m    874\u001b[0m \u001b[43m            \u001b[49m\u001b[43mhandle\u001b[49m\u001b[43m,\u001b[49m\n\u001b[1;32m    875\u001b[0m \u001b[43m            \u001b[49m\u001b[43mioargs\u001b[49m\u001b[38;5;241;43m.\u001b[39;49m\u001b[43mmode\u001b[49m\u001b[43m,\u001b[49m\n\u001b[1;32m    876\u001b[0m \u001b[43m            \u001b[49m\u001b[43mencoding\u001b[49m\u001b[38;5;241;43m=\u001b[39;49m\u001b[43mioargs\u001b[49m\u001b[38;5;241;43m.\u001b[39;49m\u001b[43mencoding\u001b[49m\u001b[43m,\u001b[49m\n\u001b[1;32m    877\u001b[0m \u001b[43m            \u001b[49m\u001b[43merrors\u001b[49m\u001b[38;5;241;43m=\u001b[39;49m\u001b[43merrors\u001b[49m\u001b[43m,\u001b[49m\n\u001b[1;32m    878\u001b[0m \u001b[43m            \u001b[49m\u001b[43mnewline\u001b[49m\u001b[38;5;241;43m=\u001b[39;49m\u001b[38;5;124;43m\"\u001b[39;49m\u001b[38;5;124;43m\"\u001b[39;49m\u001b[43m,\u001b[49m\n\u001b[1;32m    879\u001b[0m \u001b[43m        \u001b[49m\u001b[43m)\u001b[49m\n\u001b[1;32m    880\u001b[0m     \u001b[38;5;28;01melse\u001b[39;00m:\n\u001b[1;32m    881\u001b[0m         \u001b[38;5;66;03m# Binary mode\u001b[39;00m\n\u001b[1;32m    882\u001b[0m         handle \u001b[38;5;241m=\u001b[39m \u001b[38;5;28mopen\u001b[39m(handle, ioargs\u001b[38;5;241m.\u001b[39mmode)\n",
      "\u001b[0;31mIsADirectoryError\u001b[0m: [Errno 21] Is a directory: '/home/jupyter/google_cloud/fba/formatotroph/check_reaction'"
     ]
    }
   ],
   "source": [
    "import pandas as pd\n",
    "import cobra\n",
    "\n",
    "# Assuming 'model' and 'stoimax' are already loaded\n",
    "\n",
    "def create_reaction_string(metabolites, coefficients):\n",
    "    reactants = []\n",
    "    products = []\n",
    "    for met_id, coefficient in zip(metabolites, coefficients):\n",
    "        if coefficient < 0:  # Reactant\n",
    "            reactants.append(f\"{-coefficient} {met_id}\")\n",
    "        elif coefficient > 0:  # Product\n",
    "            products.append(f\"{coefficient} {met_id}\")\n",
    "    # Assuming all reactions are reversible for simplicity\n",
    "    return \" + \".join(reactants) + \" <--> \" + \" + \".join(products)\n",
    "\n",
    "def check_reaction_in_model(reaction_str, model):\n",
    "    for reaction in model.reactions:\n",
    "        model_reaction_str = reaction.build_reaction_string(use_metabolite_names=False)\n",
    "        # Check both the original and reverse reaction strings\n",
    "        if model_reaction_str == reaction_str:\n",
    "            return True\n",
    "        # Additional logic for reversing the reaction string could be implemented here\n",
    "    return False\n",
    "\n",
    "# List of metabolite IDs from the first column\n",
    "metabolite_ids = stoimax.iloc[:, 0].tolist()\n",
    "\n",
    "# Initialize a list to store reaction presence information\n",
    "reaction_presence = []\n",
    "\n",
    "# Iterate over each reaction (column) in the stoimax DataFrame, excluding the first column\n",
    "for reaction_id in stoimax.columns[1:]:\n",
    "    coefficients = stoimax[reaction_id].apply(pd.to_numeric, errors='coerce').tolist()  # Convert coefficients to numeric\n",
    "    reaction_str = create_reaction_string(metabolite_ids, coefficients)\n",
    "    is_present = check_reaction_in_model(reaction_str, model)\n",
    "    reaction_presence.append((reaction_id, reaction_str, is_present))\n",
    "\n",
    "# Convert the list to a DataFrame\n",
    "reaction_presence_df = pd.DataFrame(reaction_presence, columns=['Reaction ID', 'Reaction String', 'Is Present in Model'])\n",
    "\n",
    "# Display or save the DataFrame\n",
    "print(reaction_presence_df)\n",
    "reaction_presence_df.to_csv('/home/jupyter/google_cloud/fba/formatotroph/check_reaction', index=False)\n"
   ]
  }
 ],
 "metadata": {
  "environment": {
   "kernel": "conda-env-tvnEnv0005_cobra-py",
   "name": "workbench-notebooks.m119",
   "type": "gcloud",
   "uri": "us-docker.pkg.dev/deeplearning-platform-release/gcr.io/workbench-notebooks:m119"
  },
  "kernelspec": {
   "display_name": "Python 3 (ipykernel) (Local)",
   "language": "python",
   "name": "conda-env-tvnEnv0005_cobra-py"
  },
  "language_info": {
   "codemirror_mode": {
    "name": "ipython",
    "version": 3
   },
   "file_extension": ".py",
   "mimetype": "text/x-python",
   "name": "python",
   "nbconvert_exporter": "python",
   "pygments_lexer": "ipython3",
   "version": "3.12.2"
  },
  "toc-autonumbering": true
 },
 "nbformat": 4,
 "nbformat_minor": 5
}
