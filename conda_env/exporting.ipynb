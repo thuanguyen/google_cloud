{
 "cells": [
  {
   "cell_type": "markdown",
   "id": "9e283fa4-7a5b-493b-831f-cd3da652607d",
   "metadata": {},
   "source": [
    "# **check environment**"
   ]
  },
  {
   "cell_type": "code",
   "execution_count": 1,
   "id": "4d09420f-4820-438f-93b2-fb7d6c1c2dc2",
   "metadata": {
    "tags": []
   },
   "outputs": [
    {
     "name": "stdout",
     "output_type": "stream",
     "text": [
      "# conda environments:\n",
      "#\n",
      "base                     /opt/conda\n",
      "jupyterlab               /opt/conda/envs/jupyterlab\n",
      "prolig_0001           *  /opt/conda/envs/prolig_0001\n",
      "pytorch                  /opt/conda/envs/pytorch\n",
      "tensorflow               /opt/conda/envs/tensorflow\n",
      "\n",
      "/home/jupyter/google_cloud/conda_env\n"
     ]
    }
   ],
   "source": [
    "%%bash\n",
    "conda env list\n",
    "pwd"
   ]
  },
  {
   "cell_type": "markdown",
   "id": "d9499dc7-3339-4e58-a30b-546478a3a739",
   "metadata": {},
   "source": [
    "# **export**"
   ]
  },
  {
   "cell_type": "code",
   "execution_count": 5,
   "id": "b8ffa2ba-5831-4dca-8b2c-ce292710d81d",
   "metadata": {
    "tags": []
   },
   "outputs": [
    {
     "name": "stdout",
     "output_type": "stream",
     "text": [
      "Environment prolig_0001 exported successfully to prolig_0001.yml.\n"
     ]
    }
   ],
   "source": [
    "import subprocess\n",
    "\n",
    "# List of environments you want to export\n",
    "environments = [\"prolig_0001\"]\n",
    "\n",
    "for env_name in environments:\n",
    "    # Filename for the exported environment\n",
    "    filename = f\"{env_name}.yml\"\n",
    "    \n",
    "    # Command to export the environment without activating it\n",
    "    command = [\"conda\", \"env\", \"export\", \"--name\", env_name, \"--file\", filename]\n",
    "    \n",
    "    # Execute the command\n",
    "    result = subprocess.run(command, stdout=subprocess.PIPE, stderr=subprocess.PIPE)\n",
    "    \n",
    "    # Check if the command was executed successfully\n",
    "    if result.returncode == 0:\n",
    "        print(f\"Environment {env_name} exported successfully to {filename}.\")\n",
    "    else:\n",
    "        print(f\"Error exporting environment {env_name}:\")\n",
    "        # Print the error message from stderr\n",
    "        print(result.stderr.decode('utf-8'))\n"
   ]
  }
 ],
 "metadata": {
  "environment": {
   "kernel": "conda-env-prolig_0001-py",
   "name": "workbench-notebooks.m117",
   "type": "gcloud",
   "uri": "us-docker.pkg.dev/deeplearning-platform-release/gcr.io/workbench-notebooks:m117"
  },
  "kernelspec": {
   "display_name": "Python 3 (ipykernel)",
   "language": "python",
   "name": "conda-env-prolig_0001-py"
  },
  "language_info": {
   "codemirror_mode": {
    "name": "ipython",
    "version": 3
   },
   "file_extension": ".py",
   "mimetype": "text/x-python",
   "name": "python",
   "nbconvert_exporter": "python",
   "pygments_lexer": "ipython3",
   "version": "3.9.18"
  }
 },
 "nbformat": 4,
 "nbformat_minor": 5
}
