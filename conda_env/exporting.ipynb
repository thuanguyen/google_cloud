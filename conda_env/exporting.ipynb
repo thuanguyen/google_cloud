{
 "cells": [
  {
   "cell_type": "markdown",
   "id": "9e283fa4-7a5b-493b-831f-cd3da652607d",
   "metadata": {},
   "source": [
    "# **check environment**"
   ]
  },
  {
   "cell_type": "code",
   "execution_count": 11,
   "id": "4d09420f-4820-438f-93b2-fb7d6c1c2dc2",
   "metadata": {
    "tags": []
   },
   "outputs": [
    {
     "name": "stdout",
     "output_type": "stream",
     "text": [
      "# conda environments:\n",
      "#\n",
      "base                     /opt/conda\n",
      "jupyterlab               /opt/conda/envs/jupyterlab\n",
      "prolig_0001           *  /opt/conda/envs/prolig_0001\n",
      "pytorch                  /opt/conda/envs/pytorch\n",
      "tensorflow               /opt/conda/envs/tensorflow\n",
      "tvnEnv0002_modeller      /opt/conda/envs/tvnEnv0002_modeller\n",
      "tvnEnv0003_colabfold     /opt/conda/envs/tvnEnv0003_colabfold\n",
      "\n",
      "An error occurred while executing the command: Command '['pwd']' returned non-zero exit status 1.\n"
     ]
    },
    {
     "name": "stderr",
     "output_type": "stream",
     "text": [
      "pwd: couldn't find directory entry in ‘..’ with matching i-node\n"
     ]
    }
   ],
   "source": [
    "import subprocess\n",
    "\n",
    "# Command to list conda environments\n",
    "conda_env_command = [\"conda\", \"env\", \"list\"]\n",
    "\n",
    "# Command to print current directory\n",
    "pwd_command = [\"pwd\"]\n",
    "\n",
    "# Execute the commands\n",
    "try:\n",
    "    # Run the command to list conda environments\n",
    "    subprocess.run(conda_env_command, check=True)\n",
    "\n",
    "    # Run the command to print current directory\n",
    "    subprocess.run(pwd_command, check=True)\n",
    "except subprocess.CalledProcessError as e:\n",
    "    print(\"An error occurred while executing the command:\", e)\n"
   ]
  },
  {
   "cell_type": "markdown",
   "id": "d9499dc7-3339-4e58-a30b-546478a3a739",
   "metadata": {},
   "source": [
    "# **export**"
   ]
  },
  {
   "cell_type": "code",
   "execution_count": 12,
   "id": "b8ffa2ba-5831-4dca-8b2c-ce292710d81d",
   "metadata": {
    "tags": []
   },
   "outputs": [
    {
     "name": "stdout",
     "output_type": "stream",
     "text": [
      "Environment prolig_0001 exported successfully to prolig_0001.yml.\n",
      "Environment tvnEnv0002_modeller exported successfully to tvnEnv0002_modeller.yml.\n",
      "Environment tvnEnv0003_colabfold exported successfully to tvnEnv0003_colabfold.yml.\n"
     ]
    }
   ],
   "source": [
    "import subprocess\n",
    "\n",
    "# List of environments you want to export\n",
    "environments = [\n",
    "                \"prolig_0001\", \n",
    "                \"tvnEnv0002_modeller\",\n",
    "                \"tvnEnv0003_colabfold\"\n",
    "               ]\n",
    "\n",
    "for env_name in environments:\n",
    "    # Filename for the exported environment\n",
    "    filename = f\"{env_name}.yml\"\n",
    "    \n",
    "    # Command to export the environment without activating it\n",
    "    command = [\"conda\", \"env\", \"export\", \"--name\", env_name, \"--file\", filename]\n",
    "    \n",
    "    # Execute the command\n",
    "    result = subprocess.run(command, stdout=subprocess.PIPE, stderr=subprocess.PIPE)\n",
    "    \n",
    "    # Check if the command was executed successfully\n",
    "    if result.returncode == 0:\n",
    "        print(f\"Environment {env_name} exported successfully to {filename}.\")\n",
    "    else:\n",
    "        print(f\"Error exporting environment {env_name}:\")\n",
    "        # Print the error message from stderr\n",
    "        print(result.stderr.decode('utf-8'))\n"
   ]
  },
  {
   "cell_type": "markdown",
   "id": "faed63a4-dedd-409a-a392-2a9680625669",
   "metadata": {},
   "source": [
    "## **description**"
   ]
  },
  {
   "cell_type": "code",
   "execution_count": null,
   "id": "7f8dd0fb-f4f6-4c04-9868-28a79ac84783",
   "metadata": {
    "tags": []
   },
   "outputs": [],
   "source": [
    "import csv\n",
    "\n",
    "dictionary = {\n",
    "    'prolig_0001': \"protein-ligand interaction using NeuralPlexer\",\n",
    "    'tvnEnv0002_modeller': \"homologous modelling with Modeller\",\n",
    "    \"tvnEnv0003_colabfold\": \"colabfold\"\n",
    "}\n",
    "\n",
    "# Define CSV file path\n",
    "csv_file = 'environment_info.csv'\n",
    "\n",
    "# Define CSV headers\n",
    "headers = ['env_name', 'description']\n",
    "\n",
    "# Write data to CSV\n",
    "with open(csv_file, 'w', newline='') as file:\n",
    "    writer = csv.DictWriter(file, fieldnames=headers)\n",
    "    \n",
    "    # Write headers\n",
    "    writer.writeheader()\n",
    "    \n",
    "    # Write dictionary values as rows\n",
    "    for env_name, description in dictionary.items():\n",
    "        writer.writerow({'env_name': env_name, 'description': description})\n",
    "\n",
    "print(f\"CSV file '{csv_file}' has been created successfully!\")\n"
   ]
  }
 ],
 "metadata": {
  "environment": {
   "kernel": "conda-env-prolig_0001-py",
   "name": "workbench-notebooks.m117",
   "type": "gcloud",
   "uri": "us-docker.pkg.dev/deeplearning-platform-release/gcr.io/workbench-notebooks:m117"
  },
  "kernelspec": {
   "display_name": "Python 3 (ipykernel)",
   "language": "python",
   "name": "conda-env-prolig_0001-py"
  },
  "language_info": {
   "codemirror_mode": {
    "name": "ipython",
    "version": 3
   },
   "file_extension": ".py",
   "mimetype": "text/x-python",
   "name": "python",
   "nbconvert_exporter": "python",
   "pygments_lexer": "ipython3",
   "version": "3.9.18"
  }
 },
 "nbformat": 4,
 "nbformat_minor": 5
}
