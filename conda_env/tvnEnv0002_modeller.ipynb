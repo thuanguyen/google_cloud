{
 "cells": [
  {
   "cell_type": "markdown",
   "id": "c78b9622-7019-48d3-8a6b-1caf59d42277",
   "metadata": {},
   "source": [
    "# **check environment**"
   ]
  },
  {
   "cell_type": "code",
   "execution_count": 2,
   "id": "a9aab58c-b195-4056-8966-9f96fc486bb1",
   "metadata": {
    "tags": []
   },
   "outputs": [
    {
     "name": "stdout",
     "output_type": "stream",
     "text": [
      "# conda environments:\n",
      "#\n",
      "base                     /opt/conda\n",
      "jupyterlab               /opt/conda/envs/jupyterlab\n",
      "prolig_0001              /opt/conda/envs/prolig_0001\n",
      "pytorch                  /opt/conda/envs/pytorch\n",
      "tensorflow               /opt/conda/envs/tensorflow\n",
      "tvnEnv0002_modeller   *  /opt/conda/envs/tvnEnv0002_modeller\n",
      "\n",
      "/home/jupyter/google_cloud/conda_env\n"
     ]
    }
   ],
   "source": [
    "%%bash\n",
    "conda env list\n",
    "pwd"
   ]
  },
  {
   "cell_type": "markdown",
   "id": "5f1aab11-c0e4-4a9b-a2c8-c03b6f42fc07",
   "metadata": {},
   "source": [
    "# **introduction**\n",
    "- [modeller manual](https://salilab.org/modeller/10.5/manual/)"
   ]
  },
  {
   "cell_type": "markdown",
   "id": "817aa0b1-df37-4103-966c-6fc4e7a9f399",
   "metadata": {},
   "source": [
    "# **add license**"
   ]
  },
  {
   "cell_type": "code",
   "execution_count": 9,
   "id": "8a19cbc7-e423-455a-8a6d-9b5af5f16dc9",
   "metadata": {
    "tags": []
   },
   "outputs": [
    {
     "name": "stdout",
     "output_type": "stream",
     "text": [
      "License key added successfully!\n"
     ]
    }
   ],
   "source": [
    "import os\n",
    "\n",
    "def add_license_key(license_key, config_file_path):\n",
    "    # Read the content of the config file\n",
    "    with open(config_file_path, 'r') as file:\n",
    "        lines = file.readlines()\n",
    "\n",
    "    # Find and replace the 'license' variable value\n",
    "    for i, line in enumerate(lines):\n",
    "        if line.startswith('license ='):\n",
    "            lines[i] = f\"license = '{license_key}'\\n\"\n",
    "            break\n",
    "\n",
    "    # Write the modified content back to the config file\n",
    "    with open(config_file_path, 'w') as file:\n",
    "        file.writelines(lines)\n",
    "\n",
    "# Replace 'YOUR_LICENSE_KEY' with your actual Modeller license key\n",
    "license_key = \"MODELIRANJE\"\n",
    "\n",
    "# Replace the directory path with your Modeller config file path\n",
    "config_file_path = '/opt/conda/envs/tvnEnv0002_modeller/lib/modeller-10.5/modlib/modeller/config.py'\n",
    "\n",
    "# Add the license key to the config file\n",
    "add_license_key(license_key, config_file_path)\n",
    "\n",
    "print(\"License key added successfully!\")\n"
   ]
  },
  {
   "cell_type": "markdown",
   "id": "9209bf81-bd5b-4a53-98db-9d6ce8cdfdb4",
   "metadata": {
    "jp-MarkdownHeadingCollapsed": true,
    "tags": []
   },
   "source": [
    "# **check modeller**"
   ]
  },
  {
   "cell_type": "code",
   "execution_count": 3,
   "id": "90fbfdf5-2324-4f6e-83fa-c62aa5344cd9",
   "metadata": {
    "tags": []
   },
   "outputs": [
    {
     "name": "stdout",
     "output_type": "stream",
     "text": [
      "Modeller is installed.\n"
     ]
    }
   ],
   "source": [
    "try:\n",
    "    import modeller\n",
    "    print(\"Modeller is installed.\")\n",
    "except ImportError:\n",
    "    print(\"Modeller is not installed.\")\n",
    "except NameError:\n",
    "    print(\"Modeller is installed but encountered an error.\")\n"
   ]
  }
 ],
 "metadata": {
  "environment": {
   "kernel": "conda-env-tvnEnv0002_modeller-py",
   "name": "workbench-notebooks.m117",
   "type": "gcloud",
   "uri": "us-docker.pkg.dev/deeplearning-platform-release/gcr.io/workbench-notebooks:m117"
  },
  "kernelspec": {
   "display_name": "Python 3 (ipykernel)",
   "language": "python",
   "name": "conda-env-tvnEnv0002_modeller-py"
  },
  "language_info": {
   "codemirror_mode": {
    "name": "ipython",
    "version": 3
   },
   "file_extension": ".py",
   "mimetype": "text/x-python",
   "name": "python",
   "nbconvert_exporter": "python",
   "pygments_lexer": "ipython3",
   "version": "3.9.18"
  },
  "toc-autonumbering": true
 },
 "nbformat": 4,
 "nbformat_minor": 5
}
